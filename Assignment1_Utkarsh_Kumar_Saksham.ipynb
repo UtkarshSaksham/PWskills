{
 "cells": [
  {
   "cell_type": "code",
   "execution_count": 2,
   "id": "3a02d80b-a8f3-4c27-b6d3-9019e040c66f",
   "metadata": {},
   "outputs": [],
   "source": [
    "# Question 1\n",
    "s = \"Utkarsh\"\n",
    "l = [12,\"abc\", 20.23, False]\n",
    "f = 90.12\n",
    "t = (13,65,78,\"saksham\")"
   ]
  },
  {
   "cell_type": "code",
   "execution_count": 4,
   "id": "0c1bc13c-1889-46c3-81f6-2d6686788229",
   "metadata": {},
   "outputs": [
    {
     "data": {
      "text/plain": [
       "str"
      ]
     },
     "execution_count": 4,
     "metadata": {},
     "output_type": "execute_result"
    }
   ],
   "source": [
    "# Question 2\n",
    "var1 = ' '\n",
    "type(var1)"
   ]
  },
  {
   "cell_type": "code",
   "execution_count": 6,
   "id": "29d4c2e7-49b2-4e45-a48c-f3e16aa2e409",
   "metadata": {},
   "outputs": [
    {
     "data": {
      "text/plain": [
       "str"
      ]
     },
     "execution_count": 6,
     "metadata": {},
     "output_type": "execute_result"
    }
   ],
   "source": [
    "var2 = '[ DS , ML , Python]'\n",
    "type(var2)"
   ]
  },
  {
   "cell_type": "code",
   "execution_count": 8,
   "id": "3cd689a1-4a8f-472c-8ae0-c2c39fc12193",
   "metadata": {},
   "outputs": [
    {
     "data": {
      "text/plain": [
       "list"
      ]
     },
     "execution_count": 8,
     "metadata": {},
     "output_type": "execute_result"
    }
   ],
   "source": [
    "var3 = [ 'DS' , 'ML' , 'Python']\n",
    "type(var3)"
   ]
  },
  {
   "cell_type": "code",
   "execution_count": 9,
   "id": "400be36e-b320-417a-9b6e-0d511539e00e",
   "metadata": {},
   "outputs": [
    {
     "data": {
      "text/plain": [
       "float"
      ]
     },
     "execution_count": 9,
     "metadata": {},
     "output_type": "execute_result"
    }
   ],
   "source": [
    "var4 = 1.\n",
    "type(var4)"
   ]
  },
  {
   "cell_type": "code",
   "execution_count": 10,
   "id": "3d26f808-5bb4-4571-b909-13ceed4af574",
   "metadata": {},
   "outputs": [
    {
     "name": "stdout",
     "output_type": "stream",
     "text": [
      "3.3333333333333335\n"
     ]
    }
   ],
   "source": [
    "# Question 3\n",
    "# Use of /\n",
    "a = 10/3\n",
    "print(a)\n",
    "# It is used for division that will return float type value"
   ]
  },
  {
   "cell_type": "code",
   "execution_count": 12,
   "id": "804c5530-f50d-4197-ae76-3bb24c294368",
   "metadata": {},
   "outputs": [
    {
     "name": "stdout",
     "output_type": "stream",
     "text": [
      "1\n"
     ]
    }
   ],
   "source": [
    "# Use of %\n",
    "r = 5%2\n",
    "print(r)\n",
    "# It is used for finding the remainder that will return integer type value"
   ]
  },
  {
   "cell_type": "code",
   "execution_count": 13,
   "id": "976178c9-0c4a-4f47-82c9-cf881ac9cc58",
   "metadata": {},
   "outputs": [
    {
     "name": "stdout",
     "output_type": "stream",
     "text": [
      "1\n"
     ]
    }
   ],
   "source": [
    "# Use of //\n",
    "f = 5//3\n",
    "print(f)\n",
    "# It is known as floor that divides and return only integer value"
   ]
  },
  {
   "cell_type": "code",
   "execution_count": 14,
   "id": "29e853b4-16f3-41a2-9d60-26692f5ef003",
   "metadata": {},
   "outputs": [
    {
     "name": "stdout",
     "output_type": "stream",
     "text": [
      "9\n"
     ]
    }
   ],
   "source": [
    "# Use of **\n",
    "p = 3**2\n",
    "print(p)\n",
    "# It is used for putting power on the number"
   ]
  },
  {
   "cell_type": "code",
   "execution_count": 1,
   "id": "35abf8a0-b35f-4095-b4ae-ada021d6fa75",
   "metadata": {},
   "outputs": [
    {
     "name": "stdout",
     "output_type": "stream",
     "text": [
      "12\n",
      "<class 'int'>\n",
      "34.37\n",
      "<class 'float'>\n",
      "Utkarsh\n",
      "<class 'str'>\n",
      "True\n",
      "<class 'bool'>\n",
      "(12+8j)\n",
      "<class 'complex'>\n",
      "None\n",
      "<class 'NoneType'>\n",
      "(23+6j)\n",
      "<class 'complex'>\n",
      "56\n",
      "<class 'int'>\n",
      "123.9\n",
      "<class 'float'>\n",
      "Kumar\n",
      "<class 'str'>\n"
     ]
    }
   ],
   "source": [
    "# Question 4\n",
    "list = [12, 34.37, \"Utkarsh\", True, 12+8j, None, 23+6j, 56, 123.90, \"Kumar\"]\n",
    "for i in list:\n",
    "    print(i)\n",
    "    print(type(i))"
   ]
  },
  {
   "cell_type": "code",
   "execution_count": 16,
   "id": "1a1d02be-f0a2-4d44-aeca-ffaca50834df",
   "metadata": {},
   "outputs": [
    {
     "name": "stdout",
     "output_type": "stream",
     "text": [
      "Element is divisible by 3\n",
      "Element is not divisible by 3\n",
      "Element is divisible by 3\n",
      "Element is divisible by 3\n",
      "Element is not divisible by 3\n",
      "Element is divisible by 3\n",
      "Element is not divisible by 3\n",
      "Element is divisible by 3\n",
      "Element is divisible by 3\n",
      "Element is divisible by 3\n",
      "Element is not divisible by 3\n",
      "Element is not divisible by 3\n",
      "Element is divisible by 3\n",
      "Element is not divisible by 3\n",
      "Element is divisible by 3\n",
      "Element is divisible by 3\n",
      "Element is not divisible by 3\n",
      "Element is divisible by 3\n",
      "Element is not divisible by 3\n",
      "Element is not divisible by 3\n",
      "Element is divisible by 3\n",
      "Element is not divisible by 3\n",
      "Element is not divisible by 3\n",
      "Element is not divisible by 3\n",
      "Element is not divisible by 3\n"
     ]
    }
   ],
   "source": [
    "# Question 6\n",
    "list  = [45, -89, 90, 123, -65, 45, 89, 708, 903, 3678, -7651, 8272, -9087, 6032, 19287, 26781, 48781, 378, -23, 34, 5343, -1783, 9001, 4111, 124]\n",
    "for i in list:\n",
    "    if i%3 == 0 :\n",
    "        print(\"Element is divisible by 3\")\n",
    "    else:\n",
    "        print(\"Element is not divisible by 3\")"
   ]
  },
  {
   "cell_type": "code",
   "execution_count": 17,
   "id": "42a3aed2-17ec-4e4c-aaa2-bbfc12833f93",
   "metadata": {},
   "outputs": [
    {
     "data": {
      "text/plain": [
       "25"
      ]
     },
     "execution_count": 17,
     "metadata": {},
     "output_type": "execute_result"
    }
   ],
   "source": [
    "len(list)"
   ]
  },
  {
   "cell_type": "markdown",
   "id": "76ad5c6b-6f78-4520-8e75-5a42ec3850ad",
   "metadata": {},
   "source": [
    "Question No : 7\n",
    "Mutable Datatype :\n",
    "     It is the datatype that can be modified. Elements can be removed, append"
   ]
  },
  {
   "cell_type": "code",
   "execution_count": 3,
   "id": "d39bd089-c007-4e8b-9249-bd02f8cd1103",
   "metadata": {},
   "outputs": [
    {
     "name": "stdout",
     "output_type": "stream",
     "text": [
      "['utkarsh', -20, (2+7j), None, 78.98]\n"
     ]
    }
   ],
   "source": [
    "list = ['utkarsh', -20, 2+7j, None, 78.98]\n",
    "print(list)"
   ]
  },
  {
   "cell_type": "code",
   "execution_count": 4,
   "id": "3862a2ba-5089-4ad5-987e-6076adc24523",
   "metadata": {},
   "outputs": [],
   "source": [
    "list[0] = 'Saksham' # Modification in List"
   ]
  },
  {
   "cell_type": "code",
   "execution_count": 5,
   "id": "936eac45-b2f8-4eae-807c-957475bc357c",
   "metadata": {},
   "outputs": [
    {
     "name": "stdout",
     "output_type": "stream",
     "text": [
      "['Saksham', -20, (2+7j), None, 78.98]\n"
     ]
    }
   ],
   "source": [
    "print(list)"
   ]
  },
  {
   "cell_type": "code",
   "execution_count": 6,
   "id": "c59afa3a-4e89-4b6c-aa37-4aebde5ea157",
   "metadata": {},
   "outputs": [
    {
     "name": "stdout",
     "output_type": "stream",
     "text": [
      "['Saksham', (2+7j), None, 78.98]\n"
     ]
    }
   ],
   "source": [
    "list.remove(-20) # Removing the element in list\n",
    "print(list)"
   ]
  },
  {
   "cell_type": "code",
   "execution_count": 7,
   "id": "b9b02bec-88a8-4375-91d6-e6534ac35454",
   "metadata": {},
   "outputs": [
    {
     "name": "stdout",
     "output_type": "stream",
     "text": [
      "['Saksham', (2+7j), None, 78.98, 'kumar']\n"
     ]
    }
   ],
   "source": [
    "list.append(\"kumar\") #appending a new element\n",
    "print(list)"
   ]
  },
  {
   "cell_type": "markdown",
   "id": "d83548ae-7ea4-4685-bb96-a61c8ee307b5",
   "metadata": {},
   "source": [
    "Immutable Datatype : In this datatype elements once defined cannot be modified or anything else"
   ]
  },
  {
   "cell_type": "code",
   "execution_count": 2,
   "id": "2b0ae4c6-c656-40f0-9b9e-2537271daede",
   "metadata": {},
   "outputs": [],
   "source": [
    "str = \"Utkarsh Kumar Saksham\""
   ]
  },
  {
   "cell_type": "markdown",
   "id": "940c745f-2cb5-4924-9702-6d14c2bb632a",
   "metadata": {},
   "source": [
    "Question 5"
   ]
  },
  {
   "cell_type": "code",
   "execution_count": 1,
   "id": "d80984df-17c3-48a1-ae6c-026ac9cc9426",
   "metadata": {},
   "outputs": [
    {
     "name": "stdin",
     "output_type": "stream",
     "text": [
      "Enter A 10\n",
      "Enter B 2\n"
     ]
    },
    {
     "name": "stdout",
     "output_type": "stream",
     "text": [
      "5\n"
     ]
    }
   ],
   "source": [
    "A = int(input(\"Enter A\"))\n",
    "B = int(input(\"Enter B\"))\n",
    "r = A % B\n",
    "while r == 0:\n",
    "    t = A//B\n",
    "    r += 1\n",
    "print('Number of times A is divisible by B is : ',t)"
   ]
  },
  {
   "cell_type": "code",
   "execution_count": null,
   "id": "61adc2bf-9f43-490c-a5b4-ff8dc093f338",
   "metadata": {},
   "outputs": [],
   "source": []
  },
  {
   "cell_type": "code",
   "execution_count": null,
   "id": "bd8dfdba-79e1-489f-a850-11eed060edce",
   "metadata": {},
   "outputs": [],
   "source": []
  },
  {
   "cell_type": "code",
   "execution_count": null,
   "id": "8053fc0e-0d9d-4656-81bb-81b8dc0cad02",
   "metadata": {},
   "outputs": [],
   "source": []
  }
 ],
 "metadata": {
  "kernelspec": {
   "display_name": "Python 3 (ipykernel)",
   "language": "python",
   "name": "python3"
  },
  "language_info": {
   "codemirror_mode": {
    "name": "ipython",
    "version": 3
   },
   "file_extension": ".py",
   "mimetype": "text/x-python",
   "name": "python",
   "nbconvert_exporter": "python",
   "pygments_lexer": "ipython3",
   "version": "3.10.8"
  }
 },
 "nbformat": 4,
 "nbformat_minor": 5
}
