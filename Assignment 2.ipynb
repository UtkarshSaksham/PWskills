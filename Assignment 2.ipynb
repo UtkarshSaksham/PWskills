{
 "cells": [
  {
   "cell_type": "markdown",
   "id": "d1931b75-0bf8-4607-b7d3-886458ffc212",
   "metadata": {},
   "source": [
    "Question 1"
   ]
  },
  {
   "cell_type": "code",
   "execution_count": 1,
   "id": "8ac9f331-4a0e-4956-9fba-6faebded09ab",
   "metadata": {},
   "outputs": [
    {
     "name": "stdout",
     "output_type": "stream",
     "text": [
      "[('Sachin Tendulkar', 34357), ('Ricky Ponting', 27483), ('Jack Kallis', 25534), ('Virat Kohli', 24936)]\n"
     ]
    }
   ],
   "source": [
    "l4 = [('Sachin Tendulkar', 34357), ('Ricky Ponting', 27483), ('Jack Kallis', 25534), ('Virat Kohli', 24936)]\n",
    "s_l4 = sorted(l4, key = lambda x:x[1],reverse = True)\n",
    "print(s_l4)"
   ]
  },
  {
   "cell_type": "markdown",
   "id": "0b9f49f1-b0c0-4cc2-942e-74d97d9626aa",
   "metadata": {},
   "source": [
    "Question 2"
   ]
  },
  {
   "cell_type": "code",
   "execution_count": 7,
   "id": "6e2cd6b8-f2cd-4851-8c68-64879b983d62",
   "metadata": {},
   "outputs": [
    {
     "data": {
      "text/plain": [
       "[1, 4, 9, 16, 25, 36, 49, 64, 81, 100]"
      ]
     },
     "execution_count": 7,
     "metadata": {},
     "output_type": "execute_result"
    }
   ],
   "source": [
    "l = [1, 2, 3, 4, 5, 6, 7, 8, 9, 10] # Given List\n",
    "list(map(lambda x : x**2,l)) # Function for square of given list"
   ]
  },
  {
   "cell_type": "markdown",
   "id": "50b2c8af-23c9-46ea-b9a1-18707d62819d",
   "metadata": {},
   "source": [
    "Question 3"
   ]
  },
  {
   "cell_type": "code",
   "execution_count": 10,
   "id": "e1043fc7-d8ac-4feb-a296-534651ca1251",
   "metadata": {},
   "outputs": [
    {
     "data": {
      "text/plain": [
       "('1', '2', '3', '4', '5', '6', '7', '8', '9', '10')"
      ]
     },
     "execution_count": 10,
     "metadata": {},
     "output_type": "execute_result"
    }
   ],
   "source": [
    "l1 = [1, 2, 3, 4, 5, 6, 7, 8, 9, 10] # Given List\n",
    "tuple(map(lambda x : str(x), l1)) # Function for conversion of given list of integers into tuple of strings"
   ]
  },
  {
   "cell_type": "markdown",
   "id": "7368df19-80a9-4157-b52a-33572c313f5a",
   "metadata": {},
   "source": [
    "Question 4"
   ]
  },
  {
   "cell_type": "code",
   "execution_count": 15,
   "id": "23e9694b-b0aa-4f7e-bbf2-6441d26c5038",
   "metadata": {},
   "outputs": [
    {
     "data": {
      "text/plain": [
       "15511210043330985984000000"
      ]
     },
     "execution_count": 15,
     "metadata": {},
     "output_type": "execute_result"
    }
   ],
   "source": [
    "from functools import reduce\n",
    "l2 = [1,2,3,4,5,6,7,8,9,10,11,12,13,14,15,16,17,18,19,20,21,22,23,24,25] # Given list of numbers from 1 to 25\n",
    "reduce(lambda x,y:x*y, l2) # Function for product of list from 1 to 25"
   ]
  },
  {
   "cell_type": "markdown",
   "id": "7a94db62-226b-45fb-b886-b596c1e76536",
   "metadata": {},
   "source": [
    "Question 5"
   ]
  },
  {
   "cell_type": "code",
   "execution_count": 16,
   "id": "70663452-6f88-4547-b76b-f060c6deda60",
   "metadata": {},
   "outputs": [
    {
     "data": {
      "text/plain": [
       "[6, 60, 90, 120]"
      ]
     },
     "execution_count": 16,
     "metadata": {},
     "output_type": "execute_result"
    }
   ],
   "source": [
    "l3 = [2, 3, 6, 9, 27, 60, 90, 120, 55, 46]\n",
    "list(filter(lambda x :x%2==0 and x%3 == 0, l3))"
   ]
  },
  {
   "cell_type": "markdown",
   "id": "8369b792-d3b6-42e8-97e5-cd2accca73e6",
   "metadata": {},
   "source": [
    "Question 6"
   ]
  },
  {
   "cell_type": "code",
   "execution_count": 2,
   "id": "0381886b-e3a4-45db-91bf-009276c5eb5c",
   "metadata": {},
   "outputs": [
    {
     "data": {
      "text/plain": [
       "['php', 'aba', 'radar', 'level']"
      ]
     },
     "execution_count": 2,
     "metadata": {},
     "output_type": "execute_result"
    }
   ],
   "source": [
    "strings = ['python', 'php', 'aba', 'radar', 'level']\n",
    "list(filter(lambda x:x==x[::-1],strings))"
   ]
  }
 ],
 "metadata": {
  "kernelspec": {
   "display_name": "Python 3 (ipykernel)",
   "language": "python",
   "name": "python3"
  },
  "language_info": {
   "codemirror_mode": {
    "name": "ipython",
    "version": 3
   },
   "file_extension": ".py",
   "mimetype": "text/x-python",
   "name": "python",
   "nbconvert_exporter": "python",
   "pygments_lexer": "ipython3",
   "version": "3.10.8"
  }
 },
 "nbformat": 4,
 "nbformat_minor": 5
}
