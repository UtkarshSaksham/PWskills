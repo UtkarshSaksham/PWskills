{
 "cells": [
  {
   "cell_type": "markdown",
   "id": "8371e21e-884f-46ff-b599-9fdf6a1b1e2e",
   "metadata": {},
   "source": [
    "Question 1"
   ]
  },
  {
   "cell_type": "markdown",
   "id": "917a90f5-5e67-4aa0-8ca7-a402a10c274c",
   "metadata": {},
   "source": [
    "Multithreading :- It is the process through which multiple programs(threads) are run in the                   single core of the CPU.\n",
    "Use of Multithreading :- Multithreading allows the execution of multiple parts of a program                          at the same time. So multithreading leads to maximum utilization                            of the CPU by multitasking.\n",
    "Module used to handle threads in python :-  threading"
   ]
  },
  {
   "cell_type": "markdown",
   "id": "ec237b04-196c-40c0-8427-a6a26eb66b6e",
   "metadata": {},
   "source": [
    "Question 2"
   ]
  },
  {
   "cell_type": "markdown",
   "id": "bac4eb1c-db11-4af6-8ae5-fac453a82cf7",
   "metadata": {},
   "source": [
    "Use of threading module :- Threading module is use for handling threads in python.\n",
    "Use of functions\n",
    "1. activeCount() :- It is use for counting currently active threads.\n",
    "2. currentThread() :-  It is used to return the current Thread object, which corresponds to the caller's thread of control.\n",
    "3. enumerate() :- It is a builtin function in python which takes a list and return a tuple                   with the proper indexing."
   ]
  },
  {
   "cell_type": "markdown",
   "id": "86f62840-7da5-4ecb-ad55-0e0061ca44f7",
   "metadata": {},
   "source": [
    "Question 3"
   ]
  },
  {
   "cell_type": "markdown",
   "id": "5a030c28-3fa3-4ed6-9a79-3c1468e0cc8a",
   "metadata": {},
   "source": [
    "1. run() :- It is the inbuilt method that is use to start running the thread."
   ]
  },
  {
   "cell_type": "markdown",
   "id": "70624484-90ed-4178-aa4d-0aa783153b1f",
   "metadata": {},
   "source": [
    "2. start() :- This method is use to invoke the thread instance."
   ]
  },
  {
   "cell_type": "markdown",
   "id": "d5dbe31d-5182-4141-9ebf-4af5dda079f2",
   "metadata": {},
   "source": [
    "3. join() :- It take the iterables and join them to make a string seperated by                          seperators given by user."
   ]
  },
  {
   "cell_type": "markdown",
   "id": "138e5a16-0fed-4cdb-a8db-ebede7e5581b",
   "metadata": {},
   "source": [
    "4. isAlive() :- It is use to check whether the thread is alive or not."
   ]
  },
  {
   "cell_type": "markdown",
   "id": "b30e3216-8db4-40e7-8727-2de7ccf9e075",
   "metadata": {},
   "source": [
    "Question 4 "
   ]
  },
  {
   "cell_type": "code",
   "execution_count": 5,
   "id": "c6f1cd2e-ce86-442b-9225-c605ca3b4421",
   "metadata": {},
   "outputs": [],
   "source": [
    "import threading"
   ]
  },
  {
   "cell_type": "code",
   "execution_count": 6,
   "id": "0a75d4eb-30b7-40d6-bcd6-afc4d70ec614",
   "metadata": {},
   "outputs": [],
   "source": [
    "def square(n1):\n",
    "    print(n1*n1)\n",
    "    \n",
    "def cube(n2):\n",
    "    print(n2*n2*n2)\n",
    "    \n",
    "square_thread = [threading.Thread(target=square, args=(i,)) for i in range(10)]\n",
    "cube_thread = [threading.Thread(target=cube, args=(i,)) for i in range(10)]"
   ]
  },
  {
   "cell_type": "code",
   "execution_count": 7,
   "id": "f622a224-0dcb-45cd-bdaa-457ebcb593a9",
   "metadata": {},
   "outputs": [
    {
     "name": "stdout",
     "output_type": "stream",
     "text": [
      "0\n",
      "1\n",
      "4\n",
      "9\n",
      "16\n",
      "25\n",
      "36\n",
      "49\n",
      "64\n",
      "81\n"
     ]
    }
   ],
   "source": [
    "for i in square_thread: # printing of square thread\n",
    "    i.start()"
   ]
  },
  {
   "cell_type": "code",
   "execution_count": 8,
   "id": "56fcfdc5-64ee-45fa-9d1c-19540cc41ad9",
   "metadata": {},
   "outputs": [
    {
     "name": "stdout",
     "output_type": "stream",
     "text": [
      "0\n",
      "1\n",
      "8\n",
      "27\n",
      "64\n",
      "125\n",
      "216\n",
      "343\n",
      "512\n",
      "729\n"
     ]
    }
   ],
   "source": [
    "for i in cube_thread: # printing of cube_thread\n",
    "    i.start()"
   ]
  },
  {
   "cell_type": "markdown",
   "id": "49959b30-0c71-4099-8cda-ed530a04789b",
   "metadata": {},
   "source": [
    "Question 5"
   ]
  },
  {
   "cell_type": "markdown",
   "id": "51011f8e-4cfe-46ac-b40a-97af1351fc89",
   "metadata": {},
   "source": [
    "Advantages of Multithreading :- \n",
    "1. Improved Performance: Multithreading improves the performance of applications by running the task simultaneously.\n",
    "2. Better Responsiveness: Multithreading improves the responsiveness of your backend applications by running threads after a task is blocked. It helps in handling multiple user requests in a real-time application.\n",
    "3. Scalability: Multithreading improves the scalability of an application by letting developers add more processors. It is useful when handling a large, growing number of users on a server.\n",
    "4. Latency: Multithreading reduces the time of user requests in applications that need immediate attention. The threads work in sync to process the requests and responses.\n",
    "5. Real-time processing: Multithreading ensures tasks or requests are executed with little delay and maintains a smooth performance during real-time data processing.\n",
    "\n",
    "Disadvantages of Multithreading :- \n",
    "1. Difficulty of writing code\n",
    "Multithreaded and multicontexted applications are not easy to write. Only experienced programmers should undertake coding for these types of applications.\n",
    "2. Difficulty of debugging\n",
    "It is much harder to replicate an error in a multithreaded or multicontexted application than it is to do so in a single-threaded, single-contexted application. As a result, it is more difficult, in the former case, to identify and verify root causes when errors occur.\n",
    "3. Difficulty of managing concurrency\n",
    "The task of managing concurrency among threads is difficult and has the potential to introduce new problems into an application.\n",
    "4. Difficulty of testing\n",
    "Testing a multithreaded application is more difficult than testing a single-threaded application because defects are often timing-related and more difficult to reproduce."
   ]
  },
  {
   "cell_type": "markdown",
   "id": "716c5ce2-413b-4d71-8fde-7493e634887e",
   "metadata": {},
   "source": [
    "Question 6"
   ]
  },
  {
   "cell_type": "markdown",
   "id": "b33ccfe0-1c35-452c-8a2a-8759c2cfa106",
   "metadata": {},
   "source": [
    "Deadlock :- Deadlock describes a condition in which two or more threads are blocked forever because they are waiting for each other. There are many causes of deadlocks. The Thread Analyzer detects deadlocks that are caused by the inappropriate use of mutual exclusion locks.\n",
    "\n",
    "Race Condition :- Two (or more) threads alter the state of a shared resource concurrently, leaving it in an unpredictable state."
   ]
  }
 ],
 "metadata": {
  "kernelspec": {
   "display_name": "Python 3 (ipykernel)",
   "language": "python",
   "name": "python3"
  },
  "language_info": {
   "codemirror_mode": {
    "name": "ipython",
    "version": 3
   },
   "file_extension": ".py",
   "mimetype": "text/x-python",
   "name": "python",
   "nbconvert_exporter": "python",
   "pygments_lexer": "ipython3",
   "version": "3.10.8"
  }
 },
 "nbformat": 4,
 "nbformat_minor": 5
}
