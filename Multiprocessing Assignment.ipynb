{
 "cells": [
  {
   "cell_type": "markdown",
   "id": "e23a4be7-1d67-464b-8889-4e7b3d3960c3",
   "metadata": {},
   "source": [
    "Question 1"
   ]
  },
  {
   "cell_type": "markdown",
   "id": "5b14bf9b-36eb-4f53-89ca-468bb69e7164",
   "metadata": {},
   "source": [
    "Multiprocessing :- It is the technique through which one can run multiple processes in the                    multiple processors parallelly due to which all the resources can be                        utilize.\n",
    "-> Through this technique one can achieve high efficiency within small amount of time."
   ]
  },
  {
   "cell_type": "markdown",
   "id": "f8b11955-d2bd-4c56-a8bc-1660d21539c4",
   "metadata": {},
   "source": [
    "Question 2"
   ]
  },
  {
   "cell_type": "markdown",
   "id": "3acbd600-bfb1-4fd6-a723-6bfc56dc393b",
   "metadata": {},
   "source": [
    "Multithreading runs multiple threads simultaneously within a single process, while multiprocessing runs multiple processes simultaneously within a single thread."
   ]
  },
  {
   "cell_type": "markdown",
   "id": "1b30083b-1c86-4e45-aeff-ab9b294338b7",
   "metadata": {},
   "source": [
    "Question 3"
   ]
  },
  {
   "cell_type": "code",
   "execution_count": 2,
   "id": "1ad4b4c8-1212-4ba4-a8b3-bb777a9d3132",
   "metadata": {},
   "outputs": [
    {
     "name": "stdout",
     "output_type": "stream",
     "text": [
      "This is my print statement\n"
     ]
    }
   ],
   "source": [
    "import multiprocessing\n",
    "def func():\n",
    "    print(\"This is my print statement\")\n",
    "\n",
    "if __name__ == \"__main__\":\n",
    "    p = multiprocessing.Process(target=func)\n",
    "    p.start()\n",
    "    p.join()"
   ]
  },
  {
   "cell_type": "markdown",
   "id": "c1d47a38-a0f0-49d6-90a3-0cf034855a7d",
   "metadata": {},
   "source": [
    "Question 4"
   ]
  },
  {
   "cell_type": "markdown",
   "id": "c8b6d799-dd1a-41ee-8319-a6c692816953",
   "metadata": {},
   "source": [
    "1. Pool is the method through which a single process is divided into multiple processes and start the execution concurrently in multiprocesssing module.\n",
    "2. It is use to save the time."
   ]
  },
  {
   "cell_type": "markdown",
   "id": "691ca277-9880-4c7c-9d80-974723b6543f",
   "metadata": {},
   "source": [
    "Question 5"
   ]
  },
  {
   "cell_type": "code",
   "execution_count": 4,
   "id": "adc3d744-5ba2-418e-b8ad-6bc14fe383ec",
   "metadata": {},
   "outputs": [
    {
     "name": "stdout",
     "output_type": "stream",
     "text": [
      "[1, 8, 27, 64, 125, 216, 343, 512, 729]\n"
     ]
    }
   ],
   "source": [
    "import multiprocessing\n",
    "def cube(a):\n",
    "    return a**3\n",
    "\n",
    "if __name__ == \"__main__\":\n",
    "    with multiprocessing.Pool(processes=6) as pool: # Creating worker processes\n",
    "        result = pool.map(cube, [1,2,3,4,5,6,7,8,9])\n",
    "        print(result)"
   ]
  },
  {
   "cell_type": "markdown",
   "id": "be2c3535-521e-4136-9343-bb06f1abd6cf",
   "metadata": {},
   "source": [
    "Question 6"
   ]
  },
  {
   "cell_type": "code",
   "execution_count": 1,
   "id": "10ee3f04-59e5-436f-a75c-64ea72d39340",
   "metadata": {},
   "outputs": [
    {
     "name": "stdout",
     "output_type": "stream",
     "text": [
      "1\n",
      "2\n",
      "3\n",
      "4\n"
     ]
    }
   ],
   "source": [
    "import multiprocessing\n",
    "def num(index, no):\n",
    "    print(no[index])\n",
    "\n",
    "no = [1,2,3,4]\n",
    "\n",
    "if __name__ == \"__main__\":\n",
    "    for index in range(4):\n",
    "        n = multiprocessing.Process(target=num, args=(index, no))\n",
    "        n.start()\n",
    "        n.join()"
   ]
  },
  {
   "cell_type": "code",
   "execution_count": null,
   "id": "bca27164-1f29-4f23-98af-a4542e119ab8",
   "metadata": {},
   "outputs": [],
   "source": []
  }
 ],
 "metadata": {
  "kernelspec": {
   "display_name": "Python 3 (ipykernel)",
   "language": "python",
   "name": "python3"
  },
  "language_info": {
   "codemirror_mode": {
    "name": "ipython",
    "version": 3
   },
   "file_extension": ".py",
   "mimetype": "text/x-python",
   "name": "python",
   "nbconvert_exporter": "python",
   "pygments_lexer": "ipython3",
   "version": "3.10.8"
  }
 },
 "nbformat": 4,
 "nbformat_minor": 5
}
