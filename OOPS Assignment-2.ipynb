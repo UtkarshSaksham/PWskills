{
 "cells": [
  {
   "cell_type": "markdown",
   "id": "846089ca-4d50-44a5-8b0a-3c63600f81b0",
   "metadata": {},
   "source": [
    "Question 1"
   ]
  },
  {
   "cell_type": "markdown",
   "id": "9f7c89b2-784e-4417-a9a6-d60a300aeed6",
   "metadata": {},
   "source": [
    "Abstraction :- It is the process of creating blueprint or skeleton for particular task. Through that blueprint we complete that task by reusing that blueprint again and again."
   ]
  },
  {
   "cell_type": "code",
   "execution_count": 1,
   "id": "35b35fe7-946d-4bd3-a7ac-f9c6286c30f6",
   "metadata": {},
   "outputs": [],
   "source": [
    "# Creation of blueprint\n",
    "import abc \n",
    "class abstraction_eg:\n",
    "    @abc.abstractmethod\n",
    "    def abstract_method(self):\n",
    "        pass"
   ]
  },
  {
   "cell_type": "code",
   "execution_count": 2,
   "id": "76e2da3e-139b-41db-83d6-e732938a14f5",
   "metadata": {},
   "outputs": [],
   "source": [
    "class abstract_eg1:\n",
    "    def abstract_method(self): # using the method of skeleton class\n",
    "        return \"This is the example for abstract class\""
   ]
  },
  {
   "cell_type": "code",
   "execution_count": 3,
   "id": "6d7ba7ee-7103-41d5-a27a-e252e99e17df",
   "metadata": {},
   "outputs": [],
   "source": [
    "class abstract_eg2:\n",
    "    def abstact_method(self): # reusing the same method of skeleton class\n",
    "        return \"This is the second example for abstract class\""
   ]
  },
  {
   "cell_type": "code",
   "execution_count": 4,
   "id": "7681274b-c2c0-4f7f-8964-ed368949b46a",
   "metadata": {},
   "outputs": [],
   "source": [
    "abstract_obj1 = abstract_eg1()"
   ]
  },
  {
   "cell_type": "code",
   "execution_count": 5,
   "id": "f91ac474-bfb7-468e-b15a-e8ab88bff4f4",
   "metadata": {},
   "outputs": [
    {
     "data": {
      "text/plain": [
       "'This is the example for abstract class'"
      ]
     },
     "execution_count": 5,
     "metadata": {},
     "output_type": "execute_result"
    }
   ],
   "source": [
    "abstract_obj1.abstract_method()"
   ]
  },
  {
   "cell_type": "code",
   "execution_count": 6,
   "id": "0fe0c094-2fc4-4455-b286-24dedde25376",
   "metadata": {},
   "outputs": [],
   "source": [
    "abstract_obj2 = abstract_eg2() "
   ]
  },
  {
   "cell_type": "code",
   "execution_count": 7,
   "id": "915c6fce-49ed-4d31-a86f-befd89c4994b",
   "metadata": {},
   "outputs": [
    {
     "data": {
      "text/plain": [
       "'This is the second example for abstract class'"
      ]
     },
     "execution_count": 7,
     "metadata": {},
     "output_type": "execute_result"
    }
   ],
   "source": [
    "abstract_obj2.abstact_method()"
   ]
  },
  {
   "cell_type": "markdown",
   "id": "d7b7c9e8-99ad-479a-8cdf-9dc41e859cb9",
   "metadata": {},
   "source": [
    "Question 2"
   ]
  },
  {
   "cell_type": "markdown",
   "id": "d1861351-1384-483f-a027-32d4c9cde678",
   "metadata": {},
   "source": [
    "Abstraction :- It is the creation of blueprint that is reused again and again in the program."
   ]
  },
  {
   "cell_type": "code",
   "execution_count": 1,
   "id": "669af2f7-fea2-4c89-adae-32e3ab03133f",
   "metadata": {},
   "outputs": [],
   "source": [
    "import abc\n",
    "class abs_eg:\n",
    "    @abc.abstractmethod\n",
    "    def abs_meth(self):\n",
    "        pass"
   ]
  },
  {
   "cell_type": "code",
   "execution_count": 3,
   "id": "07065ab6-a80b-46ef-819c-bc53a33f2b2c",
   "metadata": {},
   "outputs": [],
   "source": [
    "class abs_eg1(abs_eg):\n",
    "    def abs_meth(self):\n",
    "        print(\"Reusing the method\")\n",
    "    "
   ]
  },
  {
   "cell_type": "code",
   "execution_count": 4,
   "id": "2a219c59-d4b3-46e3-a975-630704a5598e",
   "metadata": {},
   "outputs": [],
   "source": [
    "abs_eg1_obj = abs_eg1()"
   ]
  },
  {
   "cell_type": "code",
   "execution_count": 5,
   "id": "cb13c55d-b198-4390-baa8-b010aff7bff9",
   "metadata": {},
   "outputs": [
    {
     "name": "stdout",
     "output_type": "stream",
     "text": [
      "Reusing the method\n"
     ]
    }
   ],
   "source": [
    "abs_eg1_obj.abs_meth()"
   ]
  },
  {
   "cell_type": "markdown",
   "id": "36d10b1f-2f61-4cba-ad05-ae1ffa4a500e",
   "metadata": {},
   "source": [
    "Encapsulation :- It is the process through which a variable is protected from unauthorised access and while ensure data hiding. Data hiding is ensure through adding '__' before the variable."
   ]
  },
  {
   "cell_type": "code",
   "execution_count": 1,
   "id": "4b7108a4-ae26-4a3b-a7f7-3317c214c49b",
   "metadata": {},
   "outputs": [],
   "source": [
    "class encap_eg:\n",
    "    def __init__(self, variable):\n",
    "        self.__h_variable = variable  #data hiding is ensured\n",
    "    \n",
    "    def display(self):\n",
    "        print(self.__h_variable)"
   ]
  },
  {
   "cell_type": "code",
   "execution_count": 3,
   "id": "f15793c8-7c08-4167-802f-5ae458ffc209",
   "metadata": {},
   "outputs": [],
   "source": [
    "encap_eg_obj = encap_eg(90)"
   ]
  },
  {
   "cell_type": "code",
   "execution_count": 4,
   "id": "595b22e1-4ca1-4044-a671-be5f2e5699d8",
   "metadata": {},
   "outputs": [
    {
     "name": "stdout",
     "output_type": "stream",
     "text": [
      "90\n"
     ]
    }
   ],
   "source": [
    "encap_eg_obj.display() "
   ]
  },
  {
   "cell_type": "markdown",
   "id": "e11c52f6-f68d-41ff-b80f-5b79b00a4756",
   "metadata": {},
   "source": [
    "Question 3"
   ]
  },
  {
   "cell_type": "markdown",
   "id": "800d70ae-284a-4ddf-a911-b3732362a00f",
   "metadata": {},
   "source": [
    "abc module :- It is used while creating the blueprint for particular program or skeleton for particular program. Through this module a function/method become resuable. "
   ]
  },
  {
   "cell_type": "markdown",
   "id": "a35b103d-e52f-4beb-904b-94068f7985ce",
   "metadata": {},
   "source": [
    "Question 4"
   ]
  },
  {
   "cell_type": "markdown",
   "id": "26f938a0-f73b-454c-890c-c936cbb9c2bb",
   "metadata": {},
   "source": [
    "Data Abstraction can be achieved by adding '__' before the variable."
   ]
  },
  {
   "cell_type": "markdown",
   "id": "87ba20e9-03bd-4722-b034-c4c1b67763ec",
   "metadata": {},
   "source": [
    "Question 5"
   ]
  },
  {
   "cell_type": "markdown",
   "id": "78a59e2d-a949-49c7-b95a-b3b96a267407",
   "metadata": {},
   "source": [
    "Yes, we can create a instance of the abstract class but that instance will have no use because it is skeleton we cannot do anything with the instance of the blueprint."
   ]
  }
 ],
 "metadata": {
  "kernelspec": {
   "display_name": "Python 3 (ipykernel)",
   "language": "python",
   "name": "python3"
  },
  "language_info": {
   "codemirror_mode": {
    "name": "ipython",
    "version": 3
   },
   "file_extension": ".py",
   "mimetype": "text/x-python",
   "name": "python",
   "nbconvert_exporter": "python",
   "pygments_lexer": "ipython3",
   "version": "3.10.8"
  }
 },
 "nbformat": 4,
 "nbformat_minor": 5
}
