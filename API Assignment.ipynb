{
 "cells": [
  {
   "cell_type": "markdown",
   "id": "0adddfd7-2d93-476a-85bb-2182a8cf191a",
   "metadata": {},
   "source": [
    "Question 1"
   ]
  },
  {
   "cell_type": "markdown",
   "id": "fd82e2ab-2a4c-44f9-a291-ecae9d48110f",
   "metadata": {},
   "source": [
    "API :- It stands for application programming interface. It is the medium through which one application communicate with another application that is written in different or same language. "
   ]
  },
  {
   "cell_type": "markdown",
   "id": "b7015897-2ae0-4360-8e92-db1b42d84977",
   "metadata": {},
   "source": [
    "Real life application of API :-\n",
    "1. Google Pay Transaction App\n",
    "2. Zomato Food Delivery App\n",
    "3. OLA Cab App\n",
    "4. Wikipedia Search Engine\n",
    "5. Angry Bird Game"
   ]
  },
  {
   "cell_type": "markdown",
   "id": "f1061dec-1258-4c44-9b46-ab4efed07ecb",
   "metadata": {},
   "source": [
    "Question 2"
   ]
  },
  {
   "cell_type": "markdown",
   "id": "b37072dc-cc53-42c4-b7d8-dee74f7ba53e",
   "metadata": {},
   "source": [
    "Advantages of using API :- \n",
    "1. Improved user experience\n",
    "2. Enhanced security\n",
    "3. Efficiency\n",
    "4. Scalability\n",
    "5. Automation"
   ]
  },
  {
   "cell_type": "markdown",
   "id": "c4c520b1-8311-4a51-83a6-8ec24e0f2c03",
   "metadata": {},
   "source": [
    "Disadvantages of using API :-\n",
    "1. Security Concerns\n",
    "2. Complexity\n",
    "3. Compatibility Issues\n",
    "4. Dependency on Third-Party Developers\n",
    "5. Governance and Management"
   ]
  },
  {
   "cell_type": "markdown",
   "id": "a7a70cec-47dc-4f28-ab03-5c195da2328d",
   "metadata": {},
   "source": [
    "Question 3"
   ]
  },
  {
   "cell_type": "markdown",
   "id": "0775630b-b197-4e41-8255-dd0325360494",
   "metadata": {},
   "source": [
    "Web API is the interface in which one application interact with another application through web. It uses a HTTP(Hypertext Transfer Protocol) Protocol for communication through web."
   ]
  },
  {
   "cell_type": "markdown",
   "id": "fc12bf22-67c4-4dd2-aac6-16f13289d11b",
   "metadata": {},
   "source": [
    "Difference between API and Web API"
   ]
  },
  {
   "cell_type": "markdown",
   "id": "28aea665-6ce7-4881-b6b6-1eb3f245a021",
   "metadata": {},
   "source": [
    "API :- It is set of rules through which communication between different applications or within an application take place. It can use TCP/IP(Transmission Control Protocol/ Internet Protocol), SMTP(Simple Mail Transfer Protocol) and  HTTP protocol.\n",
    "Web API :- It is the subset of API in which communication between applications is done only through HTTP Protocol."
   ]
  },
  {
   "cell_type": "markdown",
   "id": "cc6df03a-7ea8-4021-9504-83fe8b56a160",
   "metadata": {},
   "source": [
    "Question 4"
   ]
  },
  {
   "cell_type": "markdown",
   "id": "b689a6b6-b759-4957-965e-721be836ce13",
   "metadata": {},
   "source": [
    "REST :- It stands for Representational State Transfer. It is used for creating a Web based API. In this architecture only HTTP protocol is used.\n",
    "SOAP :- It stands for Simple Object Access Protocol. In this architecture of API, XML files are used to interact between applications. It uses HTTP, SMTP and TCP/IP Protocols for communication."
   ]
  },
  {
   "cell_type": "markdown",
   "id": "666932ef-470e-4bd5-afce-40280fecbc14",
   "metadata": {},
   "source": [
    "Shortcomings of SOAP Architecture :- \n",
    "1. Complexity\n",
    "2. It is not scalable\n",
    "3. Less Flexibile\n",
    "4. Higher Bandwidth usage"
   ]
  },
  {
   "cell_type": "markdown",
   "id": "2decc1f7-705f-4586-962e-853cfb9f1ebe",
   "metadata": {},
   "source": [
    "Question 5"
   ]
  },
  {
   "cell_type": "markdown",
   "id": "4066d0fb-e31a-45c2-b10d-f36bf95c0bad",
   "metadata": {},
   "source": [
    "1. REST architecture is purely web based while SOAP architecture supports both kind of interaction whether that is web based or where web is not used.\n",
    "2. SOAP architecture complete all its communications through XML files while in REST this is not happen.\n",
    "3. REST architecture uses only HTTP protocol while SOAP uses HTTP, SMTP and TCP/TP Protocols.\n",
    "4. SOAP is very complex while REST is simple.\n",
    "5. SOAP is less scalable than REST."
   ]
  },
  {
   "cell_type": "code",
   "execution_count": null,
   "id": "fc6fd179-9efa-47e2-b2a6-46c16fed65ac",
   "metadata": {},
   "outputs": [],
   "source": []
  }
 ],
 "metadata": {
  "kernelspec": {
   "display_name": "Python 3 (ipykernel)",
   "language": "python",
   "name": "python3"
  },
  "language_info": {
   "codemirror_mode": {
    "name": "ipython",
    "version": 3
   },
   "file_extension": ".py",
   "mimetype": "text/x-python",
   "name": "python",
   "nbconvert_exporter": "python",
   "pygments_lexer": "ipython3",
   "version": "3.10.8"
  }
 },
 "nbformat": 4,
 "nbformat_minor": 5
}
