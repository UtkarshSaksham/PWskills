{
 "cells": [
  {
   "cell_type": "markdown",
   "id": "74c06203-2e3f-4938-8e48-4aedb5cf97db",
   "metadata": {},
   "source": [
    "Question 1"
   ]
  },
  {
   "cell_type": "markdown",
   "id": "b22abb4a-35b1-4d96-a910-12840fbd4413",
   "metadata": {},
   "source": [
    "1. def keyword is used for creating function."
   ]
  },
  {
   "cell_type": "markdown",
   "id": "3258efc4-1105-46b5-880a-e8f6c578b4f7",
   "metadata": {},
   "source": [
    "2. Creating a function that will return a list of odd numbers in range of 1 to 25"
   ]
  },
  {
   "cell_type": "code",
   "execution_count": null,
   "id": "4aa2f11a-ae46-4eca-a34b-1c4d2e06f230",
   "metadata": {},
   "outputs": [],
   "source": [
    "def odd():\n",
    "    l = []\n",
    "    for i in range(1,26):\n",
    "        if i%2 != 0:\n",
    "            l.append(i)\n",
    "    return l"
   ]
  },
  {
   "cell_type": "code",
   "execution_count": 7,
   "id": "e2e8c5a2-9611-48db-af9a-f97689bf8ec5",
   "metadata": {},
   "outputs": [
    {
     "data": {
      "text/plain": [
       "[1, 3, 5, 7, 9, 11, 13, 15, 17, 19, 21, 23, 25]"
      ]
     },
     "execution_count": 7,
     "metadata": {},
     "output_type": "execute_result"
    }
   ],
   "source": [
    "odd()"
   ]
  },
  {
   "cell_type": "markdown",
   "id": "36009fed-375d-4846-8c6e-7f377cb6e9c2",
   "metadata": {},
   "source": [
    "Question 2"
   ]
  },
  {
   "cell_type": "markdown",
   "id": "5d999201-9f06-48a7-8715-772fd2e96770",
   "metadata": {},
   "source": [
    "*args :- It is used for passing the n numbers of arguments in the function that will return          the tuple with n no of arguments."
   ]
  },
  {
   "cell_type": "code",
   "execution_count": 11,
   "id": "05f278a0-6463-4702-980d-85201b352c99",
   "metadata": {},
   "outputs": [],
   "source": [
    "def function1(*args):\n",
    "    return args    "
   ]
  },
  {
   "cell_type": "code",
   "execution_count": 13,
   "id": "a7c5d9d5-cea3-47bc-b7bb-0ad6c490e5c9",
   "metadata": {},
   "outputs": [
    {
     "data": {
      "text/plain": [
       "(12, 345, 6, 6)"
      ]
     },
     "execution_count": 13,
     "metadata": {},
     "output_type": "execute_result"
    }
   ],
   "source": [
    "function1(12,345,6,6)"
   ]
  },
  {
   "cell_type": "markdown",
   "id": "f95832a8-3fb0-4f0c-b8a2-37ddb0142e51",
   "metadata": {},
   "source": [
    "**kwargs :- It is used for passing the n no of key value pairs in the dictionary format in             function"
   ]
  },
  {
   "cell_type": "code",
   "execution_count": 14,
   "id": "4b067aa6-4cbb-4081-86f1-44859bedb8b8",
   "metadata": {},
   "outputs": [],
   "source": [
    "def function2(**kwargs):\n",
    "    return kwargs"
   ]
  },
  {
   "cell_type": "code",
   "execution_count": 16,
   "id": "574c0c9e-db21-46d7-83ac-6ba720ef535c",
   "metadata": {},
   "outputs": [
    {
     "data": {
      "text/plain": [
       "{'a': 45, 'b': 123, 'c': 463, 'd': 21, 'e': 322}"
      ]
     },
     "execution_count": 16,
     "metadata": {},
     "output_type": "execute_result"
    }
   ],
   "source": [
    "function2(a= 45,b = 123,c=463,d=21,e=322)"
   ]
  },
  {
   "cell_type": "markdown",
   "id": "9548d85b-10e9-4af7-a5d2-e662e111bb85",
   "metadata": {},
   "source": [
    "Question 3"
   ]
  },
  {
   "cell_type": "markdown",
   "id": "e7286213-8947-4f4d-8da1-523f867ade55",
   "metadata": {},
   "source": [
    "Iterator :- It is the function that converts the iterables in iterators so that their each             element can be accessed easily."
   ]
  },
  {
   "cell_type": "code",
   "execution_count": 2,
   "id": "09b1455e-30bc-498f-b379-8a4a41542c92",
   "metadata": {},
   "outputs": [],
   "source": [
    "abc = iter(\"pwskills\") # Initialisation of iterator object"
   ]
  },
  {
   "cell_type": "code",
   "execution_count": 3,
   "id": "3d5f0412-a6ef-4fce-a096-e8c1ad40b610",
   "metadata": {},
   "outputs": [
    {
     "data": {
      "text/plain": [
       "'p'"
      ]
     },
     "execution_count": 3,
     "metadata": {},
     "output_type": "execute_result"
    }
   ],
   "source": [
    "next(abc) # method for iteration"
   ]
  },
  {
   "cell_type": "code",
   "execution_count": 4,
   "id": "2ae5c6dd-0cbe-4da0-a41e-296afbfac38e",
   "metadata": {},
   "outputs": [
    {
     "data": {
      "text/plain": [
       "'w'"
      ]
     },
     "execution_count": 4,
     "metadata": {},
     "output_type": "execute_result"
    }
   ],
   "source": [
    "next(abc)"
   ]
  },
  {
   "cell_type": "code",
   "execution_count": 5,
   "id": "dda71b92-5875-413a-8b8e-2d204a11217d",
   "metadata": {},
   "outputs": [
    {
     "data": {
      "text/plain": [
       "'s'"
      ]
     },
     "execution_count": 5,
     "metadata": {},
     "output_type": "execute_result"
    }
   ],
   "source": [
    "next(abc)"
   ]
  },
  {
   "cell_type": "code",
   "execution_count": 6,
   "id": "4ee1f350-87d4-4df6-bb01-5bd7ab62807b",
   "metadata": {},
   "outputs": [
    {
     "data": {
      "text/plain": [
       "'k'"
      ]
     },
     "execution_count": 6,
     "metadata": {},
     "output_type": "execute_result"
    }
   ],
   "source": [
    "next(abc)"
   ]
  },
  {
   "cell_type": "code",
   "execution_count": 9,
   "id": "b00f6110-b607-4744-aee7-2e5697027426",
   "metadata": {},
   "outputs": [],
   "source": [
    "l  = [2,4,6,8,10,12,14,20,18,20]"
   ]
  },
  {
   "cell_type": "code",
   "execution_count": 17,
   "id": "92186583-a322-4d2d-994d-3b2f5d298c9e",
   "metadata": {},
   "outputs": [],
   "source": [
    "l1=iter(l)"
   ]
  },
  {
   "cell_type": "code",
   "execution_count": 14,
   "id": "9dafc68c-c0ba-43b6-bc53-9074e13abef5",
   "metadata": {},
   "outputs": [
    {
     "data": {
      "text/plain": [
       "list_iterator"
      ]
     },
     "execution_count": 14,
     "metadata": {},
     "output_type": "execute_result"
    }
   ],
   "source": [
    "type(l1)"
   ]
  },
  {
   "cell_type": "code",
   "execution_count": 19,
   "id": "6eee4c1a-b77f-4ee8-9e2a-16b67c0e5af3",
   "metadata": {},
   "outputs": [
    {
     "name": "stdout",
     "output_type": "stream",
     "text": [
      "2\n",
      "4\n",
      "6\n",
      "8\n",
      "10\n"
     ]
    }
   ],
   "source": [
    "for i in range(5): # \n",
    "    print(next(l1))"
   ]
  },
  {
   "cell_type": "markdown",
   "id": "16afb082-714f-4ded-a7ab-06fe623c9680",
   "metadata": {},
   "source": [
    "Question 4"
   ]
  },
  {
   "cell_type": "markdown",
   "id": "424c2f31-4503-44d4-b332-eee9c4bda65d",
   "metadata": {},
   "source": [
    "Generator Function :- It is used for generating the outcomes at the runtime without holding                       a total no of outcomes in the function.\n",
    "Yield Keyword :- It is used in generator function for throwing the outcomes."
   ]
  },
  {
   "cell_type": "code",
   "execution_count": 7,
   "id": "be914ab7-45cb-4d94-948c-59c499cf3f06",
   "metadata": {},
   "outputs": [],
   "source": [
    "def gen_fun(n):    #Generator Function for printing the n numbers of even number\n",
    "    for i in range(n):\n",
    "        if i%2==0:\n",
    "            yield i"
   ]
  },
  {
   "cell_type": "code",
   "execution_count": 4,
   "id": "221cf16b-b902-4224-8c2a-f681ad75a22d",
   "metadata": {},
   "outputs": [
    {
     "data": {
      "text/plain": [
       "<generator object gen_fun at 0x7f2130ebd4d0>"
      ]
     },
     "execution_count": 4,
     "metadata": {},
     "output_type": "execute_result"
    }
   ],
   "source": [
    "gen_fun(10)"
   ]
  },
  {
   "cell_type": "code",
   "execution_count": 5,
   "id": "a53e108e-1a86-4886-9b12-8158a70fb2ae",
   "metadata": {},
   "outputs": [
    {
     "name": "stdout",
     "output_type": "stream",
     "text": [
      "0\n",
      "2\n",
      "4\n",
      "6\n",
      "8\n"
     ]
    }
   ],
   "source": [
    "for i in gen_fun(10):\n",
    "    print(i)"
   ]
  },
  {
   "cell_type": "markdown",
   "id": "87a66da2-e915-4a0b-a6fb-f7a001fd76d3",
   "metadata": {},
   "source": [
    "Question 5"
   ]
  },
  {
   "cell_type": "code",
   "execution_count": 1,
   "id": "5d48e891-d5ee-44c7-b1f5-f5697f2629e5",
   "metadata": {},
   "outputs": [],
   "source": [
    "from sympy import * # Generator Function for prime number less than 1000\n",
    "def prime_fun(n):\n",
    "    for i in range(n):\n",
    "        if isprime(i) == True:\n",
    "            yield i"
   ]
  },
  {
   "cell_type": "code",
   "execution_count": 2,
   "id": "422f3bf9-395c-4d8b-96cd-8313f4e85218",
   "metadata": {},
   "outputs": [
    {
     "data": {
      "text/plain": [
       "<generator object prime_fun at 0x7fae89b0a9d0>"
      ]
     },
     "execution_count": 2,
     "metadata": {},
     "output_type": "execute_result"
    }
   ],
   "source": [
    "prime_fun(1000)"
   ]
  },
  {
   "cell_type": "code",
   "execution_count": 3,
   "id": "57183416-1fb9-4344-a077-1006a1bbfd7f",
   "metadata": {},
   "outputs": [],
   "source": [
    "primenos = iter(prime_fun(1000))"
   ]
  },
  {
   "cell_type": "code",
   "execution_count": 4,
   "id": "72a123ce-6a57-40bb-9ea9-302f0b2ff3cf",
   "metadata": {},
   "outputs": [
    {
     "name": "stdout",
     "output_type": "stream",
     "text": [
      "2\n",
      "3\n",
      "5\n",
      "7\n",
      "11\n",
      "13\n",
      "17\n",
      "19\n",
      "23\n",
      "29\n",
      "31\n",
      "37\n",
      "41\n",
      "43\n",
      "47\n",
      "53\n",
      "59\n",
      "61\n",
      "67\n",
      "71\n"
     ]
    }
   ],
   "source": [
    "for i in range(20):\n",
    "    print(next(primenos))"
   ]
  },
  {
   "cell_type": "markdown",
   "id": "f33e2a1a-d008-4fd6-bdf5-e8c9459318cd",
   "metadata": {},
   "source": [
    "Question 6"
   ]
  },
  {
   "cell_type": "code",
   "execution_count": 15,
   "id": "ebdb58f0-d9c8-449d-a63b-6b9fe2aace76",
   "metadata": {},
   "outputs": [],
   "source": [
    "def fun_fib(): #First 10 Fabonacci numbers usinf while loop\n",
    "    a,b = 0,1 \n",
    "    while True:\n",
    "        yield a\n",
    "        a,b = b, a+b"
   ]
  },
  {
   "cell_type": "code",
   "execution_count": 12,
   "id": "64f80970-1bfe-4f37-84a9-03c8abdc0f79",
   "metadata": {},
   "outputs": [],
   "source": [
    "fib = fun_fib()"
   ]
  },
  {
   "cell_type": "code",
   "execution_count": 14,
   "id": "38efbdbb-c42e-481c-8301-0585aa091609",
   "metadata": {},
   "outputs": [
    {
     "name": "stdout",
     "output_type": "stream",
     "text": [
      "0\n",
      "1\n",
      "1\n",
      "2\n",
      "3\n",
      "5\n",
      "8\n",
      "13\n",
      "21\n",
      "34\n"
     ]
    }
   ],
   "source": [
    "for i in range(10):\n",
    "    print(next(fib))"
   ]
  },
  {
   "cell_type": "markdown",
   "id": "63c3344d-7c96-45d9-9174-70b6033979fe",
   "metadata": {},
   "source": [
    "Question 7"
   ]
  },
  {
   "cell_type": "code",
   "execution_count": 18,
   "id": "7d6fa54f-0518-4540-a39d-faf7b50c64c2",
   "metadata": {},
   "outputs": [
    {
     "name": "stdout",
     "output_type": "stream",
     "text": [
      "['p', 'w', 's', 'k', 'i', 'l', 'l', 's']\n"
     ]
    }
   ],
   "source": [
    "list = \"pwskills\" # List comprehension to iterate through pwskills\n",
    "l =[]\n",
    "for i in list:\n",
    "    l.append(i)\n",
    "print(l)"
   ]
  },
  {
   "cell_type": "markdown",
   "id": "00d1e67c-d3f1-4521-9fa1-980d74541036",
   "metadata": {},
   "source": [
    "Question 9"
   ]
  },
  {
   "cell_type": "code",
   "execution_count": 6,
   "id": "fb7ec6e9-b13f-4752-9ab1-98bbec3623ab",
   "metadata": {},
   "outputs": [
    {
     "name": "stdout",
     "output_type": "stream",
     "text": [
      "[1, 3, 5, 7, 9, 11, 13, 15, 17, 19, 21, 23, 25, 27, 29, 31, 33, 35, 37, 39, 41, 43, 45, 47, 49, 51, 53, 55, 57, 59, 61, 63, 65, 67, 69, 71, 73, 75, 77, 79, 81, 83, 85, 87, 89, 91, 93, 95, 97, 99]\n"
     ]
    }
   ],
   "source": [
    "l = []  # Code for printing the odd number from 1 to 100 using list comprehension method\n",
    "for i in range(100): # Creating the list of numbers upto 100\n",
    "        l.append(i)\n",
    "odd = []\n",
    "for i in l:   # Rearranging the previous list by checking the divisibility by 2\n",
    "    if i%2 != 0:\n",
    "        odd.append(i)\n",
    "print(odd)        "
   ]
  },
  {
   "cell_type": "markdown",
   "id": "f8ac2941-c2f3-4953-81e3-bdc1bec296db",
   "metadata": {},
   "source": [
    "Question 8"
   ]
  },
  {
   "cell_type": "code",
   "execution_count": 1,
   "id": "e942fb41-6597-4d52-9872-96bb40dd9fc7",
   "metadata": {},
   "outputs": [
    {
     "name": "stdin",
     "output_type": "stream",
     "text": [
      "Enter number: 676\n"
     ]
    },
    {
     "name": "stdout",
     "output_type": "stream",
     "text": [
      "The number is a palindrome!\n"
     ]
    }
   ],
   "source": [
    "n=int(input(\"Enter number:\"))\n",
    "temp=n\n",
    "rev=0\n",
    "while(n>0):\n",
    "    dig=n%10\n",
    "    rev=rev*10+dig\n",
    "    n=n//10\n",
    "if(temp==rev):\n",
    "    print(\"The number is a palindrome!\")\n",
    "else:\n",
    "    print(\"The number isn't a palindrome!\")"
   ]
  },
  {
   "cell_type": "code",
   "execution_count": null,
   "id": "ee629a93-5ffc-4e8f-b202-a504c38627e9",
   "metadata": {},
   "outputs": [],
   "source": []
  }
 ],
 "metadata": {
  "kernelspec": {
   "display_name": "Python 3 (ipykernel)",
   "language": "python",
   "name": "python3"
  },
  "language_info": {
   "codemirror_mode": {
    "name": "ipython",
    "version": 3
   },
   "file_extension": ".py",
   "mimetype": "text/x-python",
   "name": "python",
   "nbconvert_exporter": "python",
   "pygments_lexer": "ipython3",
   "version": "3.10.8"
  }
 },
 "nbformat": 4,
 "nbformat_minor": 5
}
