{
 "cells": [
  {
   "cell_type": "markdown",
   "id": "098b0c40-3f0d-4637-ae2c-ab87612db458",
   "metadata": {},
   "source": [
    "Question 1"
   ]
  },
  {
   "cell_type": "markdown",
   "id": "45931861-ceeb-4920-9a6a-2df4cf9a13c2",
   "metadata": {},
   "source": [
    "Comments are written to describe the code why particular code is written over there.\n",
    "Comments are of two types both of them basically defined differently.\n",
    "1:- Single Line Comment\n",
    "It is the written only in single line with the starting of #."
   ]
  },
  {
   "cell_type": "code",
   "execution_count": 3,
   "id": "85f4e485-03dc-4fe6-8d0f-7744fabec060",
   "metadata": {},
   "outputs": [],
   "source": [
    "# This is my single line comment"
   ]
  },
  {
   "cell_type": "markdown",
   "id": "bc180554-2bcb-4643-821f-f2368e3ccebe",
   "metadata": {},
   "source": [
    "2:- Multiline Comment \n",
    "It is written in the multiple lines with the starting and ending with triple single codes (''') or triple double codes (\"\"\")."
   ]
  },
  {
   "cell_type": "code",
   "execution_count": null,
   "id": "e8a383f1-89f9-46e1-a372-a63a7fee6bbe",
   "metadata": {},
   "outputs": [],
   "source": [
    "\"\"\" This is my multiline comment. \n",
    "    Second line of my comment. \n",
    "    Third line of my comment. \"\"\""
   ]
  },
  {
   "cell_type": "markdown",
   "id": "09a313ce-6cd5-4276-8896-b9b310631473",
   "metadata": {},
   "source": [
    "Question 2"
   ]
  },
  {
   "cell_type": "markdown",
   "id": "8246e445-126f-4e38-81ea-b685cabb5ddf",
   "metadata": {},
   "source": [
    "Variables :- It is the container of data like int, string, boolean etc."
   ]
  },
  {
   "cell_type": "markdown",
   "id": "ea2ea25b-c346-4c26-8f0b-ca0db7b88b7c",
   "metadata": {},
   "source": [
    "Declaration of variable : \n",
    "In python hence it is the dynamic language we need not to declare the type of the variable we directly write the name and assign the value to it."
   ]
  },
  {
   "cell_type": "code",
   "execution_count": null,
   "id": "49394603-b2f3-4884-b61f-05e17d11af97",
   "metadata": {},
   "outputs": [],
   "source": [
    "a = 4       # Example of variable declaration"
   ]
  },
  {
   "cell_type": "markdown",
   "id": "6cfda05b-5590-4cb1-9330-8c420ce0234f",
   "metadata": {},
   "source": [
    "Question 3"
   ]
  },
  {
   "cell_type": "markdown",
   "id": "c97ab084-c449-4ecb-a525-3f2b01354239",
   "metadata": {},
   "source": [
    "Type casting is the process through which we convert one data type to another."
   ]
  },
  {
   "cell_type": "code",
   "execution_count": 7,
   "id": "705275c5-6a9b-4d60-982d-c8b7f6d24972",
   "metadata": {},
   "outputs": [
    {
     "name": "stdout",
     "output_type": "stream",
     "text": [
      "78\n",
      "<class 'str'>\n"
     ]
    }
   ],
   "source": [
    "# Example of Type casting \n",
    "a = 78 # Variable declaration \n",
    "b = str(78) # Type casting \n",
    "print(b)   # printing of variable    \n",
    "print(type(b)) # Type of variable after type casting"
   ]
  },
  {
   "cell_type": "markdown",
   "id": "d65f3060-5ff1-441b-89d2-2c22c4a25588",
   "metadata": {},
   "source": [
    "Question 5"
   ]
  },
  {
   "cell_type": "code",
   "execution_count": 1,
   "id": "355bef77-34fc-443b-8285-361475ab41bb",
   "metadata": {},
   "outputs": [
    {
     "name": "stdout",
     "output_type": "stream",
     "text": [
      "[2, 3]\n"
     ]
    }
   ],
   "source": [
    "my_list = [1,2,3,4,5] # Given List \n",
    "sub_list = my_list[1:3] # String Slicing \n",
    "print(sub_list) # printing the sublist"
   ]
  },
  {
   "cell_type": "markdown",
   "id": "4db8072f-18c2-4f03-890f-93968d2e5779",
   "metadata": {},
   "source": [
    "Question 6"
   ]
  },
  {
   "cell_type": "markdown",
   "id": "a72a7b24-b1bd-4439-bfad-bb8fb431c07d",
   "metadata": {},
   "source": [
    "Complex Numbers  :- It is the specific type of number that is used to represent imaginary numeric values like 2+4j is the complex number where 2 is the real part of the number and 4 is the imaginary part."
   ]
  },
  {
   "cell_type": "code",
   "execution_count": 5,
   "id": "8c30893e-82b2-47d0-b4e6-37bb55144edf",
   "metadata": {},
   "outputs": [
    {
     "name": "stdout",
     "output_type": "stream",
     "text": [
      "(21+4j)\n"
     ]
    }
   ],
   "source": [
    "imaginary_number = 21+4j # Representation of complex number \n",
    "print(imaginary_number)"
   ]
  },
  {
   "cell_type": "markdown",
   "id": "635ecba9-db40-4e33-9931-7b2a3ea44368",
   "metadata": {},
   "source": [
    "Question 7"
   ]
  },
  {
   "cell_type": "code",
   "execution_count": 6,
   "id": "99c4b51d-2f90-4140-9011-200ebe96c4ec",
   "metadata": {},
   "outputs": [],
   "source": [
    "age  = 25 # declaration of variable name age and assigned values 25"
   ]
  },
  {
   "cell_type": "markdown",
   "id": "e1111026-c58e-48ac-af59-2d8fbd8bfc84",
   "metadata": {},
   "source": [
    "Question 8"
   ]
  },
  {
   "cell_type": "code",
   "execution_count": 8,
   "id": "6e45b966-49a9-417a-8441-2df86a093ac7",
   "metadata": {},
   "outputs": [
    {
     "data": {
      "text/plain": [
       "float"
      ]
     },
     "execution_count": 8,
     "metadata": {},
     "output_type": "execute_result"
    }
   ],
   "source": [
    "price  = 9.99 # variable name price and value assigned to it is 9.99\n",
    "type(price)"
   ]
  },
  {
   "cell_type": "markdown",
   "id": "e89aa67e-f944-4575-9a45-e8e594e62392",
   "metadata": {},
   "source": [
    "In the above example we can see that type of price is float."
   ]
  },
  {
   "cell_type": "markdown",
   "id": "a3f4680a-609e-4e3a-b2b4-38883305a6ff",
   "metadata": {},
   "source": [
    "Question 9"
   ]
  },
  {
   "cell_type": "code",
   "execution_count": 10,
   "id": "9518834d-bbd4-4e64-b41e-96b11f101443",
   "metadata": {},
   "outputs": [
    {
     "name": "stdout",
     "output_type": "stream",
     "text": [
      "Utkarsh Kumar Saksham\n"
     ]
    }
   ],
   "source": [
    "name = 'Utkarsh Kumar Saksham' # Creating name and assigning my name to it\n",
    "print(name) # printing variable name"
   ]
  },
  {
   "cell_type": "markdown",
   "id": "4dddfe86-82c7-49a5-b04d-9b9c64efccf1",
   "metadata": {},
   "source": [
    "Question 10"
   ]
  },
  {
   "cell_type": "code",
   "execution_count": 1,
   "id": "e9a1e8ce-6a9c-4212-9840-709808a824ff",
   "metadata": {},
   "outputs": [
    {
     "name": "stdout",
     "output_type": "stream",
     "text": [
      "World\n"
     ]
    }
   ],
   "source": [
    "string = \"Hello, World!\" # Given String\n",
    "print(string[-6:-1:1]) # Extraction of substring World"
   ]
  },
  {
   "cell_type": "markdown",
   "id": "fc25fa04-09c2-4191-b4a6-6ee2c38b36e2",
   "metadata": {},
   "source": [
    "Question 11"
   ]
  },
  {
   "cell_type": "code",
   "execution_count": null,
   "id": "cf36d1a9-3a72-4d90-a0da-7a2fe7e2c8ab",
   "metadata": {},
   "outputs": [],
   "source": [
    "is_student = True # Creation of is_student variable and assigning boolean variable to it"
   ]
  },
  {
   "cell_type": "markdown",
   "id": "ca523b0e-9811-47be-967e-753c07b9e596",
   "metadata": {},
   "source": [
    "Question 4"
   ]
  },
  {
   "cell_type": "markdown",
   "id": "1cb1589b-0fc0-4bfc-83e6-71d6afdd1fd6",
   "metadata": {},
   "source": [
    "For executing the code from command line first we need to write the \"python python 3\" then the path of the file where python script is being saved."
   ]
  }
 ],
 "metadata": {
  "kernelspec": {
   "display_name": "Python 3 (ipykernel)",
   "language": "python",
   "name": "python3"
  },
  "language_info": {
   "codemirror_mode": {
    "name": "ipython",
    "version": 3
   },
   "file_extension": ".py",
   "mimetype": "text/x-python",
   "name": "python",
   "nbconvert_exporter": "python",
   "pygments_lexer": "ipython3",
   "version": "3.10.8"
  }
 },
 "nbformat": 4,
 "nbformat_minor": 5
}
