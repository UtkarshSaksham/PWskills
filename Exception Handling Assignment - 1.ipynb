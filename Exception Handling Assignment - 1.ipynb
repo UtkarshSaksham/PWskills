{
 "cells": [
  {
   "cell_type": "markdown",
   "id": "2a6a730e-4d98-4e53-b6a3-2431ebd9ab41",
   "metadata": {},
   "source": [
    "Question 1"
   ]
  },
  {
   "cell_type": "markdown",
   "id": "87ba7437-e403-40dc-b58d-650e2ff6dc74",
   "metadata": {},
   "source": [
    "Exception in python :- It is the error caused during execution of the program. This error                          is reported by python runtime.\n",
    "Difference between Exceptions and Syntax errors :- \n",
    "Exceptions occur during execution of the program while syntax errors are reported during compilation process of the program."
   ]
  },
  {
   "cell_type": "markdown",
   "id": "92d13314-f02d-4ce5-a088-ffd92a01bc85",
   "metadata": {},
   "source": [
    "Question 2"
   ]
  },
  {
   "cell_type": "markdown",
   "id": "0cef6253-5e67-4624-9f27-766ec5d967d7",
   "metadata": {},
   "source": [
    "If the exceptions are not handled the program will crash and it will report an error and the execution process of the program stops at that point."
   ]
  },
  {
   "cell_type": "code",
   "execution_count": 5,
   "id": "1cfadd9f-ad89-4b2f-981a-553f1e6e33b0",
   "metadata": {},
   "outputs": [
    {
     "ename": "ZeroDivisionError",
     "evalue": "division by zero",
     "output_type": "error",
     "traceback": [
      "\u001b[0;31m---------------------------------------------------------------------------\u001b[0m",
      "\u001b[0;31mZeroDivisionError\u001b[0m                         Traceback (most recent call last)",
      "Cell \u001b[0;32mIn[5], line 3\u001b[0m\n\u001b[1;32m      1\u001b[0m a \u001b[38;5;241m=\u001b[39m \u001b[38;5;241m10\u001b[39m\n\u001b[1;32m      2\u001b[0m b \u001b[38;5;241m=\u001b[39m \u001b[38;5;241m0\u001b[39m\n\u001b[0;32m----> 3\u001b[0m add \u001b[38;5;241m=\u001b[39m \u001b[38;5;241;43m10\u001b[39;49m\u001b[38;5;241;43m/\u001b[39;49m\u001b[38;5;241;43m0\u001b[39;49m\n\u001b[1;32m      4\u001b[0m \u001b[38;5;28mprint\u001b[39m(\u001b[38;5;124m\"\u001b[39m\u001b[38;5;124mThis is the statement after the Zero Division error\u001b[39m\u001b[38;5;124m\"\u001b[39m)\n",
      "\u001b[0;31mZeroDivisionError\u001b[0m: division by zero"
     ]
    }
   ],
   "source": [
    "a = 10\n",
    "b = 0\n",
    "add = 10/0\n",
    "print(\"This is the statement after the Zero Division error\")"
   ]
  },
  {
   "cell_type": "code",
   "execution_count": 6,
   "id": "7fcab955-e113-412a-aa89-029efa6e8b2c",
   "metadata": {},
   "outputs": [
    {
     "name": "stdout",
     "output_type": "stream",
     "text": [
      "This is the statement after the Zero Division error. division by zero\n"
     ]
    }
   ],
   "source": [
    "a = 10\n",
    "b = 0\n",
    "try:\n",
    "    add = 10/0\n",
    "except Exception as e :\n",
    "    print(\"This is the statement after the Zero Division error.\", e)\n",
    "# Here we can see that the print statement is run in the console and after that error \n",
    "# is displayed, but in the previous cell the print statement was not runned before that \n",
    "# error was reported by the python runtime and the whole program was crashed."
   ]
  },
  {
   "cell_type": "markdown",
   "id": "ec0db5a0-9f10-4a5c-a176-c9bb9b80e400",
   "metadata": {},
   "source": [
    "Question 3"
   ]
  },
  {
   "cell_type": "markdown",
   "id": "764ad92f-abd2-4cac-8f4f-bcf6055f9b9c",
   "metadata": {},
   "source": [
    "Try and except statements are used to catch and handle the exceptions in python. "
   ]
  },
  {
   "cell_type": "code",
   "execution_count": 7,
   "id": "c3a0ddcd-28a5-4366-937c-d490cfd63ff9",
   "metadata": {},
   "outputs": [
    {
     "name": "stdout",
     "output_type": "stream",
     "text": [
      "Exception is handled. invalid literal for int() with base 10: 'Utkarsh'\n"
     ]
    }
   ],
   "source": [
    "a = \"Utkarsh\"\n",
    "try: \n",
    "    typecasting = int(a)\n",
    "except Exception as e:\n",
    "    print(\"Exception is handled.\", e)"
   ]
  },
  {
   "cell_type": "markdown",
   "id": "3c3abbd4-fb21-43a6-b046-85cc97658b82",
   "metadata": {},
   "source": [
    "Question 4"
   ]
  },
  {
   "cell_type": "markdown",
   "id": "e99a3c79-0b38-48cc-b540-1bfa8ece19bc",
   "metadata": {},
   "source": [
    "a. try and else :- These two are used in exception handling if the program that is in try                      block executes itself sucessfully then else block will be executed."
   ]
  },
  {
   "cell_type": "code",
   "execution_count": 8,
   "id": "933e9406-53dc-4f97-972a-b50b03cfb602",
   "metadata": {
    "collapsed": true,
    "jupyter": {
     "outputs_hidden": true
    },
    "tags": []
   },
   "outputs": [
    {
     "name": "stdout",
     "output_type": "stream",
     "text": [
      "else block is executed\n"
     ]
    }
   ],
   "source": [
    "a = 10\n",
    "b = 10\n",
    "try:\n",
    "    c = a/b\n",
    "except Exception as e :\n",
    "    print(\"Exception is handled\", e)\n",
    "else:\n",
    "    print(\"else block is executed\")"
   ]
  },
  {
   "cell_type": "markdown",
   "id": "adf80ccc-924e-44aa-9da2-31788a590110",
   "metadata": {},
   "source": [
    "b. finally :- This block in exception handling executes itself in any condition,                         irrespective of error occurring."
   ]
  },
  {
   "cell_type": "code",
   "execution_count": 9,
   "id": "e35d2c30-8b6d-42b6-8f71-7f8900f999be",
   "metadata": {},
   "outputs": [
    {
     "name": "stdin",
     "output_type": "stream",
     "text": [
      "Enter First String Utkarsh\n",
      "Enter Second String  Kumar Saksham\n"
     ]
    },
    {
     "name": "stdout",
     "output_type": "stream",
     "text": [
      "Utkarsh Kumar Saksham\n",
      "This is the finally block\n"
     ]
    }
   ],
   "source": [
    "try:\n",
    "    str_1 = input(\"Enter First String\")\n",
    "    str_2 = input(\"Enter Second String\")\n",
    "    concatenation = print(str_1 + str_2)\n",
    "except Exception as e :\n",
    "    print(\"Error occur\")\n",
    "finally:\n",
    "    print(\"This is the finally block\")"
   ]
  },
  {
   "cell_type": "code",
   "execution_count": 10,
   "id": "0173820a-110b-4110-a713-6d1c17fbd611",
   "metadata": {},
   "outputs": [
    {
     "name": "stdin",
     "output_type": "stream",
     "text": [
      "Enter First String Utkarsh\n",
      "Enter Second String 9\n"
     ]
    },
    {
     "name": "stdout",
     "output_type": "stream",
     "text": [
      "Error occur\n",
      "This is the finally block\n"
     ]
    }
   ],
   "source": [
    "try:\n",
    "    str_1 = input(\"Enter First String\")\n",
    "    str_2 = int(input(\"Enter Second String\"))\n",
    "    concatenation = print(str_1 + str_2)\n",
    "except Exception as e :\n",
    "    print(\"Error occur\")\n",
    "finally:\n",
    "    print(\"This is the finally block\")"
   ]
  },
  {
   "cell_type": "markdown",
   "id": "d876b168-a9fd-4981-b335-13ab81cecc05",
   "metadata": {},
   "source": [
    "As we can see in the above program error has occurred but in the previous program everything was perfectly fine, irrespective of error occurring we can saw that finally block is executing itself in both situations."
   ]
  },
  {
   "cell_type": "markdown",
   "id": "5e2f9e6d-2c51-4c30-a1fc-5c5b466539dc",
   "metadata": {},
   "source": [
    "c. raise :- This keyword is used to raise exceptions or errors in python."
   ]
  },
  {
   "cell_type": "code",
   "execution_count": 11,
   "id": "34932fa5-221a-497a-89a8-43e4b6374dde",
   "metadata": {},
   "outputs": [
    {
     "ename": "Exception",
     "evalue": "Sorry, no numbers below zero",
     "output_type": "error",
     "traceback": [
      "\u001b[0;31m---------------------------------------------------------------------------\u001b[0m",
      "\u001b[0;31mException\u001b[0m                                 Traceback (most recent call last)",
      "Cell \u001b[0;32mIn[11], line 4\u001b[0m\n\u001b[1;32m      1\u001b[0m x \u001b[38;5;241m=\u001b[39m \u001b[38;5;241m-\u001b[39m\u001b[38;5;241m1\u001b[39m\n\u001b[1;32m      3\u001b[0m \u001b[38;5;28;01mif\u001b[39;00m x \u001b[38;5;241m<\u001b[39m \u001b[38;5;241m0\u001b[39m:\n\u001b[0;32m----> 4\u001b[0m     \u001b[38;5;28;01mraise\u001b[39;00m \u001b[38;5;167;01mException\u001b[39;00m(\u001b[38;5;124m\"\u001b[39m\u001b[38;5;124mSorry, no numbers below zero\u001b[39m\u001b[38;5;124m\"\u001b[39m)\n",
      "\u001b[0;31mException\u001b[0m: Sorry, no numbers below zero"
     ]
    }
   ],
   "source": [
    "x = -1\n",
    "\n",
    "if x < 0:\n",
    "    raise Exception(\"Sorry, no numbers below zero\")"
   ]
  },
  {
   "cell_type": "markdown",
   "id": "9b08da08-7972-4750-aec5-db5c563580d5",
   "metadata": {},
   "source": [
    "Question 5"
   ]
  },
  {
   "cell_type": "markdown",
   "id": "3dc5fb17-5c12-4d2a-b773-bf9f16c22627",
   "metadata": {},
   "source": [
    "Custom Exceptions :- These exceptions are created by the programmer in order to restrict some invalid inputs by the user.\n",
    "Need of Custom Exceptions :- While working on some real world problem our exceptions would                              be some real issues we cannot restrict ourselves to only                                    system defined errors or exceptions."
   ]
  },
  {
   "cell_type": "code",
   "execution_count": 12,
   "id": "fb4b93dd-aebc-4f6e-bf55-0ad6605d0d90",
   "metadata": {},
   "outputs": [],
   "source": [
    "# Example of custom exception\n",
    "class cus_ex(Exception):     # Inheriting the Exception class\n",
    "    def  __init__(self, msg):\n",
    "        self.msg = msg"
   ]
  },
  {
   "cell_type": "code",
   "execution_count": 13,
   "id": "390491d4-8092-4a0d-81cb-7aa695509ae1",
   "metadata": {},
   "outputs": [],
   "source": [
    "def exception_case(in_put):\n",
    "    if in_put%2 == 0:    # Showing error when even number is entered\n",
    "        raise cus_ex(\"Even number is entered\")\n",
    "    else:\n",
    "        raise cus_ex(\"No Error Found\")"
   ]
  },
  {
   "cell_type": "code",
   "execution_count": 15,
   "id": "1e162244-42c7-45e5-8fcb-9f4a7e64901b",
   "metadata": {},
   "outputs": [
    {
     "name": "stdin",
     "output_type": "stream",
     "text": [
      "Enter any Odd nos 8\n"
     ]
    },
    {
     "name": "stdout",
     "output_type": "stream",
     "text": [
      "Even number is entered\n"
     ]
    }
   ],
   "source": [
    "try:\n",
    "    in_put = int(input(\"Enter any Odd nos\"))\n",
    "    exception_case(in_put)\n",
    "except cus_ex as e:\n",
    "    print(e)"
   ]
  },
  {
   "cell_type": "markdown",
   "id": "cf5c32c4-4631-4b53-a5c9-480e71d11264",
   "metadata": {},
   "source": [
    "Question 6"
   ]
  },
  {
   "cell_type": "code",
   "execution_count": 16,
   "id": "71c47317-0988-4ed4-a557-feca19023944",
   "metadata": {},
   "outputs": [],
   "source": [
    "class custom_ex_class(Exception): # Custom exception class\n",
    "    def __init__(self, msg):\n",
    "        self.msg = msg"
   ]
  },
  {
   "cell_type": "code",
   "execution_count": 17,
   "id": "23134b10-d3c8-44b4-9f3a-e05b48393f6a",
   "metadata": {},
   "outputs": [],
   "source": [
    "def custom_function(u_input):\n",
    "    if u_input%2 != 0:\n",
    "        raise custom_ex_class(\"Odd number is entered\")\n",
    "    else:\n",
    "        raise custom_ex_class(\"Valid Input\")"
   ]
  },
  {
   "cell_type": "code",
   "execution_count": 18,
   "id": "365605a9-6bc3-4707-a4dc-97d2254f785e",
   "metadata": {},
   "outputs": [
    {
     "name": "stdin",
     "output_type": "stream",
     "text": [
      "Enter Even number 17\n"
     ]
    },
    {
     "name": "stdout",
     "output_type": "stream",
     "text": [
      "Odd number is entered\n"
     ]
    }
   ],
   "source": [
    "try:\n",
    "    u_input = int(input(\"Enter Even number\"))\n",
    "    custom_function(u_input)\n",
    "except custom_ex_class as e: # Handling exception through custom exception class\n",
    "    print(e)    "
   ]
  }
 ],
 "metadata": {
  "kernelspec": {
   "display_name": "Python 3 (ipykernel)",
   "language": "python",
   "name": "python3"
  },
  "language_info": {
   "codemirror_mode": {
    "name": "ipython",
    "version": 3
   },
   "file_extension": ".py",
   "mimetype": "text/x-python",
   "name": "python",
   "nbconvert_exporter": "python",
   "pygments_lexer": "ipython3",
   "version": "3.10.8"
  }
 },
 "nbformat": 4,
 "nbformat_minor": 5
}
