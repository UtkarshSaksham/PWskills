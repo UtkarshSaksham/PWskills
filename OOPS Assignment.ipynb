{
 "cells": [
  {
   "cell_type": "markdown",
   "id": "7aed971f-21a6-4ac8-90dc-b5ab957a80eb",
   "metadata": {},
   "source": [
    "Question 1"
   ]
  },
  {
   "cell_type": "code",
   "execution_count": 6,
   "id": "972aa68a-8584-4a77-8443-5f5dae29bf1e",
   "metadata": {},
   "outputs": [],
   "source": [
    "# Vehicle Class\n",
    "class vehicle :\n",
    "    def __init__(self, name_of_vehicle, max_speed, average_of_vehicle):\n",
    "        # Instance Variable\n",
    "        self.name_of_vehicle = name_of_vehicle\n",
    "        self.max_speed = max_speed\n",
    "        self.average_of_vehicle = average_of_vehicle\n",
    "        "
   ]
  },
  {
   "cell_type": "markdown",
   "id": "8161612d-07a8-466c-828b-b6c0a49a1a7b",
   "metadata": {},
   "source": [
    "Question 2"
   ]
  },
  {
   "cell_type": "code",
   "execution_count": 7,
   "id": "b0accc8f-96c0-4f70-914b-d7328265b5cb",
   "metadata": {},
   "outputs": [],
   "source": [
    "# Inheritance of vehicle class\n",
    "class car(vehicle): \n",
    "    # Method creation with seating capacity name\n",
    "    def seating_capacity(self, capacity):\n",
    "        # Returning the capacity and name of vehicle\n",
    "        return self.name_of_vehicle, capacity"
   ]
  },
  {
   "cell_type": "code",
   "execution_count": 8,
   "id": "28d7088a-3b3e-477e-ad7f-2e95da77f2dd",
   "metadata": {},
   "outputs": [
    {
     "data": {
      "text/plain": [
       "('Jaguar', 5)"
      ]
     },
     "execution_count": 8,
     "metadata": {},
     "output_type": "execute_result"
    }
   ],
   "source": [
    "obj_car = car(\"Jaguar\", 500, 70)\n",
    "obj_car.seating_capacity(5)"
   ]
  },
  {
   "cell_type": "markdown",
   "id": "5c53f8b2-8241-45b1-86ee-fd43703d0040",
   "metadata": {},
   "source": [
    "Question 3"
   ]
  },
  {
   "cell_type": "markdown",
   "id": "e94ff9e9-1666-41ea-8fe5-8dc15d80cf1d",
   "metadata": {},
   "source": [
    "Multiple Inheritance :\n",
    "    When a single class derives properties of multiple classes it is consider as multiple             inheritance "
   ]
  },
  {
   "cell_type": "code",
   "execution_count": 9,
   "id": "c023667c-890f-4c6d-ab8f-3673718e1b53",
   "metadata": {},
   "outputs": [],
   "source": [
    "# Multiple Inheritance"
   ]
  },
  {
   "cell_type": "code",
   "execution_count": 10,
   "id": "d1f001a3-6a3d-463e-ae06-d4ed2aee81ab",
   "metadata": {},
   "outputs": [],
   "source": [
    "class Student:\n",
    "    def machine_learning(self):\n",
    "        return \"This is my ML class\""
   ]
  },
  {
   "cell_type": "code",
   "execution_count": 11,
   "id": "f8005ca0-e67d-4880-a7f8-5a56d2a26941",
   "metadata": {},
   "outputs": [],
   "source": [
    "class Teacher:\n",
    "    def t_details(self):\n",
    "        return \"This is our teacher for ML class\""
   ]
  },
  {
   "cell_type": "code",
   "execution_count": 12,
   "id": "ee5b7606-9b86-443e-a057-ad62a8129129",
   "metadata": {},
   "outputs": [],
   "source": [
    "class college(Student, Teacher):\n",
    "    pass"
   ]
  },
  {
   "cell_type": "code",
   "execution_count": 13,
   "id": "0a314612-8b37-445d-8408-da676766b7a3",
   "metadata": {},
   "outputs": [],
   "source": [
    "college = college()"
   ]
  },
  {
   "cell_type": "code",
   "execution_count": 14,
   "id": "05cd366d-f871-40cc-b84f-4896f5b4ae2b",
   "metadata": {},
   "outputs": [
    {
     "data": {
      "text/plain": [
       "'This is my ML class'"
      ]
     },
     "execution_count": 14,
     "metadata": {},
     "output_type": "execute_result"
    }
   ],
   "source": [
    "college.machine_learning()"
   ]
  },
  {
   "cell_type": "code",
   "execution_count": 15,
   "id": "88b8d3b7-af47-4e06-b246-306f0a96a8a9",
   "metadata": {},
   "outputs": [
    {
     "data": {
      "text/plain": [
       "'This is our teacher for ML class'"
      ]
     },
     "execution_count": 15,
     "metadata": {},
     "output_type": "execute_result"
    }
   ],
   "source": [
    "college.t_details()"
   ]
  },
  {
   "cell_type": "markdown",
   "id": "0364d2be-12eb-4e12-982a-59b84a0bd08d",
   "metadata": {},
   "source": [
    "Question 4"
   ]
  },
  {
   "cell_type": "markdown",
   "id": "bda94dae-5fbe-41d2-8ac9-4faa7e30ecb8",
   "metadata": {},
   "source": [
    "Getter and Setter :- These two methods are used to display a value and set a value for a variable while ensuring data encapsulation."
   ]
  },
  {
   "cell_type": "code",
   "execution_count": 16,
   "id": "78ca5412-e826-4dc5-9c78-227e05dc2a32",
   "metadata": {},
   "outputs": [
    {
     "name": "stdout",
     "output_type": "stream",
     "text": [
      "setter method called\n",
      "getter method called\n",
      "23\n"
     ]
    }
   ],
   "source": [
    "class user:\n",
    "    def __init__(self):\n",
    "        self._age = 0\n",
    "        \n",
    "    def get_age(self):\n",
    "        print(\"getter method called\")\n",
    "        return self._age\n",
    "    \n",
    "    def set_age(self, age):\n",
    "        print(\"setter method called\")\n",
    "        self._age = age\n",
    "        \n",
    "    my_age = property(get_age, set_age)\n",
    "\n",
    "utkarsh = user()\n",
    "    \n",
    "utkarsh.my_age = 23   # Setting a variable\n",
    "    \n",
    "print(utkarsh.my_age)   # Getting a variable"
   ]
  },
  {
   "cell_type": "markdown",
   "id": "a84752e8-87d8-4c61-93ec-fc50228298a2",
   "metadata": {},
   "source": [
    "Question 5"
   ]
  },
  {
   "cell_type": "markdown",
   "id": "275a952a-8233-43dc-9d14-331326e9f639",
   "metadata": {},
   "source": [
    "Method Overriding : It is the process through which a sub class make a specific        \n",
    "                    implementation of method that is used in it's parent class."
   ]
  },
  {
   "cell_type": "code",
   "execution_count": 17,
   "id": "0a8bf6cc-e644-4f91-881d-470d32df8d3e",
   "metadata": {},
   "outputs": [
    {
     "name": "stdout",
     "output_type": "stream",
     "text": [
      "Aditya\n",
      "Ashok\n"
     ]
    }
   ],
   "source": [
    "class parent:\n",
    "    # Method to be overriden\n",
    "    def baby_name(self):           \n",
    "        print(\"Aditya\")\n",
    "class child:\n",
    "    # Overriding the method\n",
    "    def baby_name(self):\n",
    "        print(\"Ashok\")\n",
    "obj_parent = parent()\n",
    "obj_child = child()\n",
    "obj_parent.baby_name()\n",
    "obj_child.baby_name()"
   ]
  }
 ],
 "metadata": {
  "kernelspec": {
   "display_name": "Python 3 (ipykernel)",
   "language": "python",
   "name": "python3"
  },
  "language_info": {
   "codemirror_mode": {
    "name": "ipython",
    "version": 3
   },
   "file_extension": ".py",
   "mimetype": "text/x-python",
   "name": "python",
   "nbconvert_exporter": "python",
   "pygments_lexer": "ipython3",
   "version": "3.10.8"
  }
 },
 "nbformat": 4,
 "nbformat_minor": 5
}
