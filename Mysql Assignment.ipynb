{
 "cells": [
  {
   "cell_type": "markdown",
   "metadata": {},
   "source": [
    "Question 1"
   ]
  },
  {
   "cell_type": "markdown",
   "metadata": {},
   "source": [
    "Database is a storage where different types of data stored either in structure format or unstructure format. SQL :- It stands for Structure Query Language. In this type of database all the data is stored in structured form. NOSQL :- It stands for Not Only Structure Query Language. In this type of database we can store both types of data, structure as well as unstructure."
   ]
  },
  {
   "cell_type": "markdown",
   "metadata": {},
   "source": [
    "Question 2"
   ]
  },
  {
   "cell_type": "markdown",
   "metadata": {},
   "source": [
    "DDL :- It stands for Data Definition Language. It is the group of commands that is use to change the structure of a database."
   ]
  },
  {
   "cell_type": "markdown",
   "metadata": {},
   "source": [
    "CREATE Command :- This command is use for creating table in database."
   ]
  },
  {
   "cell_type": "code",
   "execution_count": 1,
   "metadata": {},
   "outputs": [],
   "source": [
    "import mysql.connector\n",
    "mydb = mysql.connector.connect(\n",
    "  host=\"localhost\",\n",
    "  user=\"abc\",\n",
    "  password=\"password\"\n",
    ")\n",
    "mycursor = mydb.cursor()\n",
    "mycursor.execute(\"CREATE TABLE My_Database.Table(c1 INT, c2 VARCHAR(50), c3 FLOAT, c4 INT, c5 VARCHAR(30))\")\n",
    "mydb.close()"
   ]
  },
  {
   "cell_type": "markdown",
   "metadata": {},
   "source": [
    "DROP Command :- Completely removes the table from the database along with the destruction of the table structure."
   ]
  },
  {
   "cell_type": "code",
   "execution_count": 8,
   "metadata": {},
   "outputs": [],
   "source": [
    "import mysql.connector\n",
    "mydb = mysql.connector.connect(\n",
    "  host=\"localhost\",\n",
    "  user=\"abc\",\n",
    "  password=\"password\"\n",
    ")\n",
    "mycursor = mydb.cursor()\n",
    "mycursor.execute(\"DROP TABLE My_Database.Table\")\n",
    "mydb.close()"
   ]
  },
  {
   "cell_type": "markdown",
   "metadata": {},
   "source": [
    "ALTER Command :- It is use for altering the table."
   ]
  },
  {
   "cell_type": "code",
   "execution_count": 9,
   "metadata": {},
   "outputs": [],
   "source": [
    "import mysql.connector\n",
    "mydb = mysql.connector.connect(\n",
    "  host=\"localhost\",\n",
    "  user=\"abc\",\n",
    "  password=\"password\"\n",
    ")\n",
    "mycursor = mydb.cursor()\n",
    "mycursor.execute(\"ALTER TABLE My_Database.Table ADD (c6  VARCHAR(200))\")\n",
    "mydb.close()"
   ]
  },
  {
   "cell_type": "markdown",
   "metadata": {},
   "source": [
    "TRUNCATE Command :- This command removes all the records from a table."
   ]
  },
  {
   "cell_type": "code",
   "execution_count": 10,
   "metadata": {},
   "outputs": [],
   "source": [
    "import mysql.connector\n",
    "mydb = mysql.connector.connect(\n",
    "  host=\"localhost\",\n",
    "  user=\"abc\",\n",
    "  password=\"password\"\n",
    ")\n",
    "mycursor = mydb.cursor()\n",
    "mycursor.execute(\"TRUNCATE TABLE My_Database.Table\")\n",
    "mydb.close()"
   ]
  },
  {
   "cell_type": "markdown",
   "metadata": {},
   "source": [
    "Question 3"
   ]
  },
  {
   "cell_type": "markdown",
   "metadata": {},
   "source": [
    "DML :- It stands for Data Manipulation Language. It is the set of SQL commands that is use to manipulate the data present in database."
   ]
  },
  {
   "cell_type": "markdown",
   "metadata": {},
   "source": [
    "INSERT Command :- It is use to insert data into table."
   ]
  },
  {
   "cell_type": "code",
   "execution_count": 4,
   "metadata": {},
   "outputs": [],
   "source": [
    "import mysql.connector\n",
    "mydb = mysql.connector.connect(\n",
    "  host=\"localhost\",\n",
    "  user=\"abc\",\n",
    "  password=\"password\"\n",
    ")\n",
    "mycursor = mydb.cursor()\n",
    "mycursor.execute(\"insert into My_Database.Table values(123, 'Utkarsh', 234.45, 234, 'Kumar')\")\n",
    "mycursor.execute(\"insert into My_Database.Table values(123, 'Utkarsh', 234.45, 234, 'Kumar')\")\n",
    "mycursor.execute(\"insert into My_Database.Table values(123, 'Utkarsh', 234.45, 234, 'Kumar')\")\n",
    "mydb.commit()\n",
    "mydb.close()"
   ]
  },
  {
   "cell_type": "markdown",
   "metadata": {},
   "source": [
    "UPDATE Command :- It is use to update the existing data in the table. "
   ]
  },
  {
   "cell_type": "code",
   "execution_count": 9,
   "metadata": {},
   "outputs": [],
   "source": [
    "import mysql.connector\n",
    "mydb = mysql.connector.connect(\n",
    "  host=\"localhost\",\n",
    "  user=\"abc\",\n",
    "  password=\"password\"\n",
    ")\n",
    "mycursor = mydb.cursor()\n",
    "mycursor.execute(\"UPDATE My_Database.Table SET c1=543 WHERE c2='Utkarsh' \")\n",
    "mydb.commit()\n",
    "mydb.close()"
   ]
  },
  {
   "cell_type": "markdown",
   "metadata": {},
   "source": [
    "DELETE Command :- It is use to delete records form databse table."
   ]
  },
  {
   "cell_type": "code",
   "execution_count": 10,
   "metadata": {},
   "outputs": [],
   "source": [
    "import mysql.connector\n",
    "mydb = mysql.connector.connect(\n",
    "  host=\"localhost\",\n",
    "  user=\"abc\",\n",
    "  password=\"password\"\n",
    ")\n",
    "mycursor = mydb.cursor()\n",
    "mycursor.execute(\"DELETE FROM My_Database.Table WHERE c1=543\")\n",
    "mydb.commit()\n",
    "mydb.close()"
   ]
  },
  {
   "cell_type": "markdown",
   "metadata": {},
   "source": [
    "Question 4"
   ]
  },
  {
   "cell_type": "markdown",
   "metadata": {},
   "source": [
    "DQL :- It stands for Data Query Language. It allows getting data from the database and imposing order upon it."
   ]
  },
  {
   "cell_type": "markdown",
   "metadata": {},
   "source": [
    "SELECT :- It is use to retrieve the data from database."
   ]
  },
  {
   "cell_type": "code",
   "execution_count": 18,
   "metadata": {},
   "outputs": [],
   "source": [
    "import mysql.connector\n",
    "mydb = mysql.connector.connect(\n",
    "  host=\"localhost\",\n",
    "  user=\"abc\",\n",
    "  password=\"password\"\n",
    ")\n",
    "mycursor = mydb.cursor()\n",
    "mycursor.execute(\"SELECT c1,c5 FROM My_Database.Table WHERE c2='Abhishek' \")\n",
    "mydb.close()"
   ]
  },
  {
   "cell_type": "markdown",
   "metadata": {},
   "source": [
    "Question 5"
   ]
  },
  {
   "cell_type": "markdown",
   "metadata": {},
   "source": [
    "Primary Key :- It is the column in the relational database which is unique and it also help in establing a relationship with other table.\n",
    "Foreign Key :- It is the unique column in the other table through which first table is connected."
   ]
  },
  {
   "cell_type": "markdown",
   "metadata": {},
   "source": [
    "Question 6"
   ]
  },
  {
   "cell_type": "code",
   "execution_count": 19,
   "metadata": {},
   "outputs": [
    {
     "name": "stdout",
     "output_type": "stream",
     "text": [
      "<mysql.connector.connection_cext.CMySQLConnection object at 0x7c4be87a1eb0>\n"
     ]
    }
   ],
   "source": [
    "# Connecting My SQL to python\n",
    "import mysql.connector\n",
    "mydb = mysql.connector.connect(\n",
    "  host=\"localhost\",\n",
    "  user=\"abc\",\n",
    "  password=\"password\"\n",
    ")\n",
    "print(mydb)"
   ]
  },
  {
   "cell_type": "markdown",
   "metadata": {},
   "source": [
    "Cursor() :- It is the method through which python commands interact with database and it works as the pointer that points a particular thing in database.\n",
    "Execute() :- This method is used for executing the commands from python interface to the database."
   ]
  },
  {
   "cell_type": "markdown",
   "metadata": {},
   "source": [
    "Question 7"
   ]
  },
  {
   "cell_type": "markdown",
   "metadata": {},
   "source": [
    "Order of Execution of SQL clauses are as follows :- \n",
    "1. FROM\n",
    "2. WHERE\n",
    "3. GROUP BY\n",
    "4. HAVING\n",
    "5. SELECT\n",
    "6. ORDER BY\n",
    "7. LIMIT"
   ]
  }
 ],
 "metadata": {
  "kernelspec": {
   "display_name": "Python 3.8.10 64-bit",
   "language": "python",
   "name": "python3"
  },
  "language_info": {
   "codemirror_mode": {
    "name": "ipython",
    "version": 3
   },
   "file_extension": ".py",
   "mimetype": "text/x-python",
   "name": "python",
   "nbconvert_exporter": "python",
   "pygments_lexer": "ipython3",
   "version": "3.8.10"
  },
  "orig_nbformat": 4,
  "vscode": {
   "interpreter": {
    "hash": "e7370f93d1d0cde622a1f8e1c04877d8463912d04d973331ad4851f04de6915a"
   }
  }
 },
 "nbformat": 4,
 "nbformat_minor": 2
}
