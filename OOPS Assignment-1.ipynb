{
 "cells": [
  {
   "cell_type": "markdown",
   "id": "272e1643-72de-499a-864d-fd494cb4f8e4",
   "metadata": {},
   "source": [
    "Question 1"
   ]
  },
  {
   "cell_type": "markdown",
   "id": "b1593410-86c5-49b2-a9e0-48c4216786fe",
   "metadata": {},
   "source": [
    "Class :- It is a blueprint on which object is created for example take a map on which the            particular building is built, Here map is working as the class and building as              object. In python, class is declared by 'class' keyword."
   ]
  },
  {
   "cell_type": "code",
   "execution_count": 13,
   "id": "aacd24d7-8bc4-42e9-819b-0376ce86bd62",
   "metadata": {},
   "outputs": [],
   "source": [
    "# class example\n",
    "class class_example:\n",
    "    def print_fun(self):\n",
    "        print(\"My name is ABC.\")"
   ]
  },
  {
   "cell_type": "markdown",
   "id": "bd88e230-e706-4361-ae8d-0da19a4f67c7",
   "metadata": {},
   "source": [
    "Object :- It is created from class(blueprint for object). "
   ]
  },
  {
   "cell_type": "code",
   "execution_count": 14,
   "id": "931fbc00-0274-4fa3-844a-0995dff689c5",
   "metadata": {},
   "outputs": [],
   "source": [
    "obj_example = class_example() # Creation of object from class"
   ]
  },
  {
   "cell_type": "code",
   "execution_count": 15,
   "id": "f9e0f575-fa51-4daf-ade5-d24d899670e4",
   "metadata": {},
   "outputs": [
    {
     "name": "stdout",
     "output_type": "stream",
     "text": [
      "My name is ABC.\n"
     ]
    }
   ],
   "source": [
    "# Calling the function\n",
    "obj_example.print_fun() "
   ]
  },
  {
   "cell_type": "markdown",
   "id": "73167a1c-612b-4bc3-8a30-99cbe6e1e580",
   "metadata": {},
   "source": [
    "Question 2"
   ]
  },
  {
   "cell_type": "markdown",
   "id": "b3270b79-31a4-480d-b6dd-93e116876f04",
   "metadata": {},
   "source": [
    "Four Pillars of OOP's :-\n",
    "1. Inheritance\n",
    "2. Polymorphism\n",
    "3. Encapsulation\n",
    "4. Abstraction"
   ]
  },
  {
   "cell_type": "markdown",
   "id": "5ceaa7b6-c516-4900-8405-e8116a51d667",
   "metadata": {},
   "source": [
    "Question 3"
   ]
  },
  {
   "cell_type": "markdown",
   "id": "1d3155a2-fb5d-4233-b8b6-055f1f054c9c",
   "metadata": {},
   "source": [
    "__init__() is the dunder function that is used for initializing the attributes of class."
   ]
  },
  {
   "cell_type": "code",
   "execution_count": 5,
   "id": "7a85802b-1b1a-439e-82cc-bff754bbd18d",
   "metadata": {},
   "outputs": [],
   "source": [
    "class class_var: # Example of __init__ function\n",
    "    def __init__(self, name, age, gender):\n",
    "        self.name = name\n",
    "        self.age = age\n",
    "        self.gender = gender\n",
    "    \n",
    "    def display_credentials(self):\n",
    "        print(self.name, self.age, self.gender)"
   ]
  },
  {
   "cell_type": "code",
   "execution_count": 6,
   "id": "6f40d162-5201-4f7d-a3c8-708badfa78ff",
   "metadata": {},
   "outputs": [],
   "source": [
    "class_input = class_var(\"XYZ\", \"00\", 'M') # Here we are initializing the attributes of class"
   ]
  },
  {
   "cell_type": "markdown",
   "id": "5a4e2033-35e9-4f70-896f-6b4ad0534279",
   "metadata": {},
   "source": [
    "Question 4"
   ]
  },
  {
   "cell_type": "markdown",
   "id": "038f5c92-07d9-40cc-bdea-47b70cfac589",
   "metadata": {},
   "source": [
    "Self is used because it binds the particular method to the instance of the class. All the methods that uses self can be accessed through the instance of the class."
   ]
  },
  {
   "cell_type": "markdown",
   "id": "3503c01f-de52-4df5-87ff-5e41b549375c",
   "metadata": {},
   "source": [
    "Question 5"
   ]
  },
  {
   "cell_type": "markdown",
   "id": "66b59434-dff2-4e97-8680-88d9b2afd2ab",
   "metadata": {},
   "source": [
    "Inheritance :- It is the method of the class through which one class inherits the property of another class."
   ]
  },
  {
   "cell_type": "markdown",
   "id": "b5b7e087-1e12-4615-a75f-8daa3efd24b0",
   "metadata": {},
   "source": [
    "Single Inheritance"
   ]
  },
  {
   "cell_type": "code",
   "execution_count": 1,
   "id": "080997c1-10b6-46dd-9452-c7d7c41a3374",
   "metadata": {},
   "outputs": [],
   "source": [
    "class parent:\n",
    "    def parent_fun(self):\n",
    "        print(\"Single Inheritance\")\n",
    "class child(parent):\n",
    "    pass"
   ]
  },
  {
   "cell_type": "code",
   "execution_count": 2,
   "id": "16a498d0-330d-4945-add6-d69fa9302a6b",
   "metadata": {},
   "outputs": [],
   "source": [
    "child_obj = child()     # Creating the instance of the child class "
   ]
  },
  {
   "cell_type": "code",
   "execution_count": 3,
   "id": "9942dc37-5b6f-4915-9200-d91539bdc40e",
   "metadata": {},
   "outputs": [
    {
     "name": "stdout",
     "output_type": "stream",
     "text": [
      "Single Inheritance\n"
     ]
    }
   ],
   "source": [
    "child_obj.parent_fun()"
   ]
  },
  {
   "cell_type": "markdown",
   "id": "f6a62b5d-8b70-41f8-b1f0-67e43db2ca9b",
   "metadata": {},
   "source": [
    "Mutilevel Inheritance"
   ]
  },
  {
   "cell_type": "code",
   "execution_count": 1,
   "id": "d5f06ea3-843b-4a14-8aac-4524e345b107",
   "metadata": {},
   "outputs": [],
   "source": [
    "class parent:\n",
    "    def parent_fun(self):\n",
    "        print(\"This is parent\")\n",
    "\n",
    "class child(parent): # Inheriting parent Level1\n",
    "    def child_fun(self):\n",
    "        print(\"This is child\")\n",
    "\n",
    "class child1(child):  # Inheriting child Level2\n",
    "    pass"
   ]
  },
  {
   "cell_type": "code",
   "execution_count": 2,
   "id": "633bec53-3c78-422a-a22e-43124a6da113",
   "metadata": {},
   "outputs": [],
   "source": [
    "child_obj = child1() # Creating instance of the child1 class"
   ]
  },
  {
   "cell_type": "code",
   "execution_count": 5,
   "id": "470add93-12fd-41f0-91f5-98da58c250c9",
   "metadata": {},
   "outputs": [
    {
     "name": "stdout",
     "output_type": "stream",
     "text": [
      "This is parent\n"
     ]
    }
   ],
   "source": [
    "child_obj.parent_fun() # Calling parent method"
   ]
  },
  {
   "cell_type": "code",
   "execution_count": 6,
   "id": "802958ec-3c77-4524-af4f-4424ef077f26",
   "metadata": {},
   "outputs": [
    {
     "name": "stdout",
     "output_type": "stream",
     "text": [
      "This is child\n"
     ]
    }
   ],
   "source": [
    "child_obj.child_fun() # Calling child method"
   ]
  },
  {
   "cell_type": "markdown",
   "id": "0742e364-e089-445e-a79b-5c20fb3764bc",
   "metadata": {},
   "source": [
    "Multiple Inheritance"
   ]
  },
  {
   "cell_type": "code",
   "execution_count": 9,
   "id": "3e861243-43a3-41f9-86c8-fbf70a79d1fb",
   "metadata": {},
   "outputs": [],
   "source": [
    "class parent1:\n",
    "    def parent1_fun(self):\n",
    "        print(\"This is parent1 class\")\n",
    "class parent2:\n",
    "    def parent2_fun(self):\n",
    "        print(\"This is parent2 class\")\n",
    "class child(parent1, parent2): # Inheriting parent1 and parent2\n",
    "    pass"
   ]
  },
  {
   "cell_type": "code",
   "execution_count": 10,
   "id": "802dc5cf-a308-484e-9f88-0073efa26681",
   "metadata": {},
   "outputs": [],
   "source": [
    "child_obj = child()"
   ]
  },
  {
   "cell_type": "code",
   "execution_count": 11,
   "id": "840d16a8-4377-4459-b57f-c4f7ac7d6c2a",
   "metadata": {},
   "outputs": [
    {
     "name": "stdout",
     "output_type": "stream",
     "text": [
      "This is parent1 class\n"
     ]
    }
   ],
   "source": [
    "child_obj.parent1_fun()"
   ]
  },
  {
   "cell_type": "code",
   "execution_count": 12,
   "id": "a3da61b0-5aa1-4ed9-95cf-db5ef8da2080",
   "metadata": {},
   "outputs": [
    {
     "name": "stdout",
     "output_type": "stream",
     "text": [
      "This is parent2 class\n"
     ]
    }
   ],
   "source": [
    "child_obj.parent2_fun()"
   ]
  }
 ],
 "metadata": {
  "kernelspec": {
   "display_name": "Python 3 (ipykernel)",
   "language": "python",
   "name": "python3"
  },
  "language_info": {
   "codemirror_mode": {
    "name": "ipython",
    "version": 3
   },
   "file_extension": ".py",
   "mimetype": "text/x-python",
   "name": "python",
   "nbconvert_exporter": "python",
   "pygments_lexer": "ipython3",
   "version": "3.10.8"
  }
 },
 "nbformat": 4,
 "nbformat_minor": 5
}
